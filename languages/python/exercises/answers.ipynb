{
 "cells": [
  {
   "cell_type": "code",
   "execution_count": 1,
   "metadata": {
    "collapsed": true
   },
   "outputs": [
    {
     "name": "stdout",
     "output_type": "stream",
     "text": [
      "Addition: 15\n",
      "Subtraction: 5\n",
      "Multiplication: 50\n",
      "Division: 2.0\n"
     ]
    }
   ],
   "source": [
    "# Simple Calculator\n",
    "def add(a, b):\n",
    "    return a + b\n",
    "\n",
    "def subtract(a, b):\n",
    "    return a - b\n",
    "\n",
    "def multiply(a, b):\n",
    "    return a * b\n",
    "\n",
    "def divide(a, b):\n",
    "    return a / b\n",
    "\n",
    "# Test the calculator functions\n",
    "num1 = 10\n",
    "num2 = 5\n",
    "\n",
    "print(\"Addition:\", add(num1, num2))\n",
    "print(\"Subtraction:\", subtract(num1, num2))\n",
    "print(\"Multiplication:\", multiply(num1, num2))\n",
    "print(\"Division:\", divide(num1, num2))\n"
   ]
  },
  {
   "cell_type": "code",
   "execution_count": 2,
   "outputs": [
    {
     "name": "stdout",
     "output_type": "stream",
     "text": [
      "Too low! Try again.\n",
      "Too low! Try again.\n"
     ]
    },
    {
     "ename": "ValueError",
     "evalue": "invalid literal for int() with base 10: ''",
     "output_type": "error",
     "traceback": [
      "\u001B[1;31m---------------------------------------------------------------------------\u001B[0m",
      "\u001B[1;31mValueError\u001B[0m                                Traceback (most recent call last)",
      "Cell \u001B[1;32mIn[2], line 9\u001B[0m\n\u001B[0;32m      6\u001B[0m attempts \u001B[38;5;241m=\u001B[39m \u001B[38;5;241m0\u001B[39m\n\u001B[0;32m      8\u001B[0m \u001B[38;5;28;01mwhile\u001B[39;00m \u001B[38;5;28;01mTrue\u001B[39;00m:\n\u001B[1;32m----> 9\u001B[0m     guess \u001B[38;5;241m=\u001B[39m \u001B[38;5;28;43mint\u001B[39;49m\u001B[43m(\u001B[49m\u001B[38;5;28;43minput\u001B[39;49m\u001B[43m(\u001B[49m\u001B[38;5;124;43m\"\u001B[39;49m\u001B[38;5;124;43mGuess a number between 1 and 100: \u001B[39;49m\u001B[38;5;124;43m\"\u001B[39;49m\u001B[43m)\u001B[49m\u001B[43m)\u001B[49m\n\u001B[0;32m     10\u001B[0m     attempts \u001B[38;5;241m+\u001B[39m\u001B[38;5;241m=\u001B[39m \u001B[38;5;241m1\u001B[39m\n\u001B[0;32m     12\u001B[0m     \u001B[38;5;28;01mif\u001B[39;00m guess \u001B[38;5;241m<\u001B[39m random_number:\n",
      "\u001B[1;31mValueError\u001B[0m: invalid literal for int() with base 10: ''"
     ]
    }
   ],
   "source": [
    "# Guessing Game\n",
    "\n",
    "import random\n",
    "\n",
    "random_number = random.randint(1, 100)\n",
    "attempts = 0\n",
    "\n",
    "while True:\n",
    "    guess = int(input(\"Guess a number between 1 and 100: \"))\n",
    "    attempts += 1\n",
    "\n",
    "    if guess < random_number:\n",
    "        print(\"Too low! Try again.\")\n",
    "    elif guess > random_number:\n",
    "        print(\"Too high! Try again.\")\n",
    "    else:\n",
    "        print(\"Congratulations! You guessed the number in\", attempts, \"attempts.\")\n",
    "        break"
   ],
   "metadata": {
    "collapsed": false
   }
  },
  {
   "cell_type": "code",
   "execution_count": 3,
   "outputs": [
    {
     "name": "stdout",
     "output_type": "stream",
     "text": [
      "1. Add a task\n",
      "2. Delete a task\n",
      "3. Update a task\n",
      "4. View tasks\n",
      "5. Exit\n"
     ]
    },
    {
     "ename": "ValueError",
     "evalue": "invalid literal for int() with base 10: ''",
     "output_type": "error",
     "traceback": [
      "\u001B[1;31m---------------------------------------------------------------------------\u001B[0m",
      "\u001B[1;31mValueError\u001B[0m                                Traceback (most recent call last)",
      "Cell \u001B[1;32mIn[3], line 11\u001B[0m\n\u001B[0;32m      8\u001B[0m \u001B[38;5;28mprint\u001B[39m(\u001B[38;5;124m\"\u001B[39m\u001B[38;5;124m4. View tasks\u001B[39m\u001B[38;5;124m\"\u001B[39m)\n\u001B[0;32m      9\u001B[0m \u001B[38;5;28mprint\u001B[39m(\u001B[38;5;124m\"\u001B[39m\u001B[38;5;124m5. Exit\u001B[39m\u001B[38;5;124m\"\u001B[39m)\n\u001B[1;32m---> 11\u001B[0m choice \u001B[38;5;241m=\u001B[39m \u001B[38;5;28;43mint\u001B[39;49m\u001B[43m(\u001B[49m\u001B[38;5;28;43minput\u001B[39;49m\u001B[43m(\u001B[49m\u001B[38;5;124;43m\"\u001B[39;49m\u001B[38;5;124;43mEnter your choice: \u001B[39;49m\u001B[38;5;124;43m\"\u001B[39;49m\u001B[43m)\u001B[49m\u001B[43m)\u001B[49m\n\u001B[0;32m     13\u001B[0m \u001B[38;5;28;01mif\u001B[39;00m choice \u001B[38;5;241m==\u001B[39m \u001B[38;5;241m1\u001B[39m:\n\u001B[0;32m     14\u001B[0m     task \u001B[38;5;241m=\u001B[39m \u001B[38;5;28minput\u001B[39m(\u001B[38;5;124m\"\u001B[39m\u001B[38;5;124mEnter the task: \u001B[39m\u001B[38;5;124m\"\u001B[39m)\n",
      "\u001B[1;31mValueError\u001B[0m: invalid literal for int() with base 10: ''"
     ]
    }
   ],
   "source": [
    "# To-Do List Manager\n",
    "tasks = []\n",
    "\n",
    "while True:\n",
    "    print(\"1. Add a task\")\n",
    "    print(\"2. Delete a task\")\n",
    "    print(\"3. Update a task\")\n",
    "    print(\"4. View tasks\")\n",
    "    print(\"5. Exit\")\n",
    "\n",
    "    choice = int(input(\"Enter your choice: \"))\n",
    "\n",
    "    if choice == 1:\n",
    "        task = input(\"Enter the task: \")\n",
    "        tasks.append(task)\n",
    "        print(\"Task added.\")\n",
    "    elif choice == 2:\n",
    "        task = input(\"Enter the task to delete: \")\n",
    "        if task in tasks:\n",
    "            tasks.remove(task)\n",
    "            print(\"Task deleted.\")\n",
    "        else:\n",
    "            print(\"Task not found.\")\n",
    "    elif choice == 3:\n",
    "        task = input(\"Enter the task to update: \")\n",
    "        if task in tasks:\n",
    "            index = tasks.index(task)\n",
    "            new_task = input(\"Enter the new task: \")\n",
    "            tasks[index] = new_task\n",
    "            print(\"Task updated.\")\n",
    "        else:\n",
    "            print(\"Task not found.\")\n",
    "    elif choice == 4:\n",
    "        print(\"Tasks:\")\n",
    "        for task in tasks:\n",
    "            print(task)\n",
    "    elif choice == 5:\n",
    "        break\n",
    "    else:\n",
    "        print(\"Invalid choice. Please try again.\")\n"
   ],
   "metadata": {
    "collapsed": false
   }
  },
  {
   "cell_type": "code",
   "execution_count": 4,
   "outputs": [
    {
     "name": "stdout",
     "output_type": "stream",
     "text": [
      "Error: API key has been disabled.\n"
     ]
    }
   ],
   "source": [
    "# Weather App\n",
    "import requests\n",
    "\n",
    "API_KEY = \"your_api_key\"\n",
    "BASE_URL = \"https://api.weatherapi.com/v1/current.json\"\n",
    "\n",
    "city = input(\"Enter the city name: \")\n",
    "params = {\"key\": API_KEY, \"q\": city}\n",
    "\n",
    "response = requests.get(BASE_URL, params=params)\n",
    "data = response.json()\n",
    "\n",
    "if \"error\" in data:\n",
    "    print(\"Error:\", data[\"error\"][\"message\"])\n",
    "else:\n",
    "    temperature = data[\"current\"][\"temp_c\"]\n",
    "    condition = data[\"current\"][\"condition\"][\"text\"]\n",
    "    print(\"Current temperature in\", city, \"is\", temperature, \"°C\")\n",
    "    print(\"Condition:\", condition)\n"
   ],
   "metadata": {
    "collapsed": false
   }
  },
  {
   "cell_type": "code",
   "execution_count": 17,
   "outputs": [
    {
     "name": "stdout",
     "output_type": "stream",
     "text": [
      "Shortened URL: YkOAnL\n",
      "Invalid short URL.\n"
     ]
    }
   ],
   "source": [
    "# URL Shortener\n",
    "import string\n",
    "import random\n",
    "\n",
    "# Dictionary to store short URLs as keys and long URLs as values\n",
    "short_urls = {}\n",
    "\n",
    "def generate_short_url():\n",
    "    characters = string.ascii_letters + string.digits\n",
    "    short_url = ''.join(random.choice(characters) for _ in range(6))\n",
    "    return short_url\n",
    "\n",
    "def shorten_url(long_url):\n",
    "    short_url = generate_short_url()\n",
    "    short_urls[short_url] = long_url  # Store the mapping in the dictionary\n",
    "    return short_url\n",
    "\n",
    "# Test the URL shortener\n",
    "long_url = \"https://www.example.com/s\"\n",
    "shortened = shorten_url(long_url)\n",
    "print(\"Shortened URL:\", shortened)\n",
    "\n",
    "def expand_url(short_url):\n",
    "    long_url = short_urls.get(short_url)  # Retrieve the long URL from the dictionary\n",
    "    return long_url\n",
    "\n",
    "# Test the URL expander\n",
    "short_url = input(\"Enter the short URL: \")\n",
    "long_url = expand_url(short_url)\n",
    "\n",
    "if long_url:\n",
    "    print(\"Expanded URL:\", long_url)\n",
    "else:\n",
    "    print(\"Invalid short URL.\")\n"
   ],
   "metadata": {
    "collapsed": false
   }
  },
  {
   "cell_type": "code",
   "execution_count": 10,
   "outputs": [
    {
     "ename": "FileNotFoundError",
     "evalue": "[WinError 3] The system cannot find the path specified: '/path/to/directory'",
     "output_type": "error",
     "traceback": [
      "\u001B[1;31m---------------------------------------------------------------------------\u001B[0m",
      "\u001B[1;31mFileNotFoundError\u001B[0m                         Traceback (most recent call last)",
      "Cell \u001B[1;32mIn[10], line 21\u001B[0m\n\u001B[0;32m     19\u001B[0m \u001B[38;5;66;03m# Test the file organizer\u001B[39;00m\n\u001B[0;32m     20\u001B[0m directory \u001B[38;5;241m=\u001B[39m \u001B[38;5;124m\"\u001B[39m\u001B[38;5;124m/path/to/directory\u001B[39m\u001B[38;5;124m\"\u001B[39m\n\u001B[1;32m---> 21\u001B[0m \u001B[43morganize_files\u001B[49m\u001B[43m(\u001B[49m\u001B[43mdirectory\u001B[49m\u001B[43m)\u001B[49m\n",
      "Cell \u001B[1;32mIn[10], line 6\u001B[0m, in \u001B[0;36morganize_files\u001B[1;34m(directory)\u001B[0m\n\u001B[0;32m      5\u001B[0m \u001B[38;5;28;01mdef\u001B[39;00m \u001B[38;5;21morganize_files\u001B[39m(directory):\n\u001B[1;32m----> 6\u001B[0m     files \u001B[38;5;241m=\u001B[39m \u001B[43mos\u001B[49m\u001B[38;5;241;43m.\u001B[39;49m\u001B[43mlistdir\u001B[49m\u001B[43m(\u001B[49m\u001B[43mdirectory\u001B[49m\u001B[43m)\u001B[49m\n\u001B[0;32m      8\u001B[0m     \u001B[38;5;28;01mfor\u001B[39;00m file \u001B[38;5;129;01min\u001B[39;00m files:\n\u001B[0;32m      9\u001B[0m         \u001B[38;5;28;01mif\u001B[39;00m os\u001B[38;5;241m.\u001B[39mpath\u001B[38;5;241m.\u001B[39misfile(file):\n",
      "\u001B[1;31mFileNotFoundError\u001B[0m: [WinError 3] The system cannot find the path specified: '/path/to/directory'"
     ]
    }
   ],
   "source": [
    "# File Organizer\n",
    "\n",
    "import os\n",
    "import shutil\n",
    "\n",
    "def organize_files(directory):\n",
    "    files = os.listdir(directory)\n",
    "\n",
    "    for file in files:\n",
    "        if os.path.isfile(file):\n",
    "            file_extension = os.path.splitext(file)[1]\n",
    "            destination_folder = directory + \"/\" + file_extension[1:]\n",
    "\n",
    "            if not os.path.exists(destination_folder):\n",
    "                os.makedirs(destination_folder)\n",
    "\n",
    "            shutil.move(file, destination_folder + \"/\" + file)\n",
    "            print(f\"Moved {file} to {destination_folder}\")\n",
    "\n",
    "# Test the file organizer\n",
    "directory = \"/path/to/directory\"\n",
    "organize_files(directory)\n"
   ],
   "metadata": {
    "collapsed": false
   }
  },
  {
   "cell_type": "code",
   "execution_count": 12,
   "outputs": [
    {
     "name": "stdout",
     "output_type": "stream",
     "text": [
      "Let's play Hangman!\n",
      "_ _ _ _ _ _ _ _ \n",
      "Wrong guess. Attempts left: 5\n",
      "_ _ _ _ _ _ _ _ \n",
      "Wrong guess. Attempts left: 4\n",
      "_ _ _ _ _ _ _ _ \n",
      "Invalid guess. Please enter a single letter.\n",
      "Invalid guess. Please enter a single letter.\n",
      "Invalid guess. Please enter a single letter.\n",
      "Invalid guess. Please enter a single letter.\n",
      "Invalid guess. Please enter a single letter.\n",
      "Invalid guess. Please enter a single letter.\n",
      "Invalid guess. Please enter a single letter.\n",
      "Invalid guess. Please enter a single letter.\n",
      "Invalid guess. Please enter a single letter.\n",
      "Invalid guess. Please enter a single letter.\n",
      "Wrong guess. Attempts left: 3\n",
      "_ _ _ _ _ _ _ _ \n",
      "Correct guess!\n",
      "_ _ _ _ _ a _ _ \n",
      "Invalid guess. Please enter a single letter.\n",
      "Invalid guess. Please enter a single letter.\n",
      "Invalid guess. Please enter a single letter.\n",
      "Invalid guess. Please enter a single letter.\n",
      "Invalid guess. Please enter a single letter.\n",
      "Invalid guess. Please enter a single letter.\n",
      "Invalid guess. Please enter a single letter.\n",
      "Invalid guess. Please enter a single letter.\n",
      "Invalid guess. Please enter a single letter.\n",
      "Invalid guess. Please enter a single letter.\n",
      "Invalid guess. Please enter a single letter.\n",
      "Invalid guess. Please enter a single letter.\n",
      "Invalid guess. Please enter a single letter.\n",
      "Wrong guess. Attempts left: 2\n",
      "_ _ _ _ _ a _ _ \n",
      "Wrong guess. Attempts left: 1\n",
      "_ _ _ _ _ a _ _ \n",
      "Wrong guess. Attempts left: 0\n",
      "_ _ _ _ _ a _ _ \n",
      "Game over. You lost. The word was: football\n"
     ]
    }
   ],
   "source": [
    "# Hangman Game\n",
    "\n",
    "import random\n",
    "\n",
    "def hangman():\n",
    "    word_list = [\"apple\", \"banana\", \"cherry\", \"dragon\", \"elephant\", \"football\"]\n",
    "    word = random.choice(word_list)\n",
    "    guessed_letters = []\n",
    "    attempts = 6\n",
    "\n",
    "    print(\"Let's play Hangman!\")\n",
    "    print(\"_ \" * len(word))\n",
    "\n",
    "    while attempts > 0:\n",
    "        guess = input(\"Guess a letter: \").lower()\n",
    "\n",
    "        if guess.isalpha() and len(guess) == 1:\n",
    "            if guess in guessed_letters:\n",
    "                print(\"You already guessed that letter.\")\n",
    "            elif guess in word:\n",
    "                guessed_letters.append(guess)\n",
    "                print(\"Correct guess!\")\n",
    "            else:\n",
    "                attempts -= 1\n",
    "                print(\"Wrong guess. Attempts left:\", attempts)\n",
    "\n",
    "            word_progress = \"\"\n",
    "            for letter in word:\n",
    "                if letter in guessed_letters:\n",
    "                    word_progress += letter + \" \"\n",
    "                else:\n",
    "                    word_progress += \"_ \"\n",
    "\n",
    "            print(word_progress)\n",
    "\n",
    "            if \"_\" not in word_progress:\n",
    "                print(\"Congratulations! You won!\")\n",
    "                break\n",
    "\n",
    "        else:\n",
    "            print(\"Invalid guess. Please enter a single letter.\")\n",
    "\n",
    "    if attempts == 0:\n",
    "        print(\"Game over. You lost. The word was:\", word)\n",
    "\n",
    "hangman()\n"
   ],
   "metadata": {
    "collapsed": false
   }
  },
  {
   "cell_type": "code",
   "execution_count": 13,
   "outputs": [
    {
     "ename": "ValueError",
     "evalue": "invalid literal for int() with base 10: ''",
     "output_type": "error",
     "traceback": [
      "\u001B[1;31m---------------------------------------------------------------------------\u001B[0m",
      "\u001B[1;31mValueError\u001B[0m                                Traceback (most recent call last)",
      "Cell \u001B[1;32mIn[13], line 15\u001B[0m\n\u001B[0;32m     12\u001B[0m     \u001B[38;5;28;01mreturn\u001B[39;00m password\n\u001B[0;32m     14\u001B[0m \u001B[38;5;66;03m# Test the password generator\u001B[39;00m\n\u001B[1;32m---> 15\u001B[0m length \u001B[38;5;241m=\u001B[39m \u001B[38;5;28;43mint\u001B[39;49m\u001B[43m(\u001B[49m\u001B[38;5;28;43minput\u001B[39;49m\u001B[43m(\u001B[49m\u001B[38;5;124;43m\"\u001B[39;49m\u001B[38;5;124;43mEnter the password length: \u001B[39;49m\u001B[38;5;124;43m\"\u001B[39;49m\u001B[43m)\u001B[49m\u001B[43m)\u001B[49m\n\u001B[0;32m     16\u001B[0m include_special_chars \u001B[38;5;241m=\u001B[39m \u001B[38;5;28minput\u001B[39m(\u001B[38;5;124m\"\u001B[39m\u001B[38;5;124mInclude special characters? (y/n): \u001B[39m\u001B[38;5;124m\"\u001B[39m)\u001B[38;5;241m.\u001B[39mlower() \u001B[38;5;241m==\u001B[39m \u001B[38;5;124m\"\u001B[39m\u001B[38;5;124my\u001B[39m\u001B[38;5;124m\"\u001B[39m\n\u001B[0;32m     18\u001B[0m password \u001B[38;5;241m=\u001B[39m generate_password(length, include_special_chars)\n",
      "\u001B[1;31mValueError\u001B[0m: invalid literal for int() with base 10: ''"
     ]
    }
   ],
   "source": [
    "# Password Generator\n",
    "\n",
    "import string\n",
    "import random\n",
    "\n",
    "def generate_password(length, include_special_chars):\n",
    "    characters = string.ascii_letters + string.digits\n",
    "    if include_special_chars:\n",
    "        characters += string.punctuation\n",
    "\n",
    "    password = ''.join(random.choice(characters) for _ in range(length))\n",
    "    return password\n",
    "\n",
    "# Test the password generator\n",
    "length = int(input(\"Enter the password length: \"))\n",
    "include_special_chars = input(\"Include special characters? (y/n): \").lower() == \"y\"\n",
    "\n",
    "password = generate_password(length, include_special_chars)\n",
    "print(\"Generated password:\", password)\n"
   ],
   "metadata": {
    "collapsed": false
   }
  },
  {
   "cell_type": "code",
   "execution_count": 14,
   "outputs": [
    {
     "ename": "JSONDecodeError",
     "evalue": "Expecting value: line 1 column 1 (char 0)",
     "output_type": "error",
     "traceback": [
      "\u001B[1;31m---------------------------------------------------------------------------\u001B[0m",
      "\u001B[1;31mJSONDecodeError\u001B[0m                           Traceback (most recent call last)",
      "File \u001B[1;32m~\\Documents\\Apps\\AI-Data-Science-Related\\venv\\Lib\\site-packages\\requests\\models.py:971\u001B[0m, in \u001B[0;36mResponse.json\u001B[1;34m(self, **kwargs)\u001B[0m\n\u001B[0;32m    970\u001B[0m \u001B[38;5;28;01mtry\u001B[39;00m:\n\u001B[1;32m--> 971\u001B[0m     \u001B[38;5;28;01mreturn\u001B[39;00m \u001B[43mcomplexjson\u001B[49m\u001B[38;5;241;43m.\u001B[39;49m\u001B[43mloads\u001B[49m\u001B[43m(\u001B[49m\u001B[38;5;28;43mself\u001B[39;49m\u001B[38;5;241;43m.\u001B[39;49m\u001B[43mtext\u001B[49m\u001B[43m,\u001B[49m\u001B[43m \u001B[49m\u001B[38;5;241;43m*\u001B[39;49m\u001B[38;5;241;43m*\u001B[39;49m\u001B[43mkwargs\u001B[49m\u001B[43m)\u001B[49m\n\u001B[0;32m    972\u001B[0m \u001B[38;5;28;01mexcept\u001B[39;00m JSONDecodeError \u001B[38;5;28;01mas\u001B[39;00m e:\n\u001B[0;32m    973\u001B[0m     \u001B[38;5;66;03m# Catch JSON-related errors and raise as requests.JSONDecodeError\u001B[39;00m\n\u001B[0;32m    974\u001B[0m     \u001B[38;5;66;03m# This aliases json.JSONDecodeError and simplejson.JSONDecodeError\u001B[39;00m\n",
      "File \u001B[1;32m~\\Documents\\Apps\\AI-Data-Science-Related\\venv\\Lib\\site-packages\\simplejson\\__init__.py:514\u001B[0m, in \u001B[0;36mloads\u001B[1;34m(s, encoding, cls, object_hook, parse_float, parse_int, parse_constant, object_pairs_hook, use_decimal, allow_nan, **kw)\u001B[0m\n\u001B[0;32m    510\u001B[0m \u001B[38;5;28;01mif\u001B[39;00m (\u001B[38;5;28mcls\u001B[39m \u001B[38;5;129;01mis\u001B[39;00m \u001B[38;5;28;01mNone\u001B[39;00m \u001B[38;5;129;01mand\u001B[39;00m encoding \u001B[38;5;129;01mis\u001B[39;00m \u001B[38;5;28;01mNone\u001B[39;00m \u001B[38;5;129;01mand\u001B[39;00m object_hook \u001B[38;5;129;01mis\u001B[39;00m \u001B[38;5;28;01mNone\u001B[39;00m \u001B[38;5;129;01mand\u001B[39;00m\n\u001B[0;32m    511\u001B[0m         parse_int \u001B[38;5;129;01mis\u001B[39;00m \u001B[38;5;28;01mNone\u001B[39;00m \u001B[38;5;129;01mand\u001B[39;00m parse_float \u001B[38;5;129;01mis\u001B[39;00m \u001B[38;5;28;01mNone\u001B[39;00m \u001B[38;5;129;01mand\u001B[39;00m\n\u001B[0;32m    512\u001B[0m         parse_constant \u001B[38;5;129;01mis\u001B[39;00m \u001B[38;5;28;01mNone\u001B[39;00m \u001B[38;5;129;01mand\u001B[39;00m object_pairs_hook \u001B[38;5;129;01mis\u001B[39;00m \u001B[38;5;28;01mNone\u001B[39;00m\n\u001B[0;32m    513\u001B[0m         \u001B[38;5;129;01mand\u001B[39;00m \u001B[38;5;129;01mnot\u001B[39;00m use_decimal \u001B[38;5;129;01mand\u001B[39;00m \u001B[38;5;129;01mnot\u001B[39;00m allow_nan \u001B[38;5;129;01mand\u001B[39;00m \u001B[38;5;129;01mnot\u001B[39;00m kw):\n\u001B[1;32m--> 514\u001B[0m     \u001B[38;5;28;01mreturn\u001B[39;00m \u001B[43m_default_decoder\u001B[49m\u001B[38;5;241;43m.\u001B[39;49m\u001B[43mdecode\u001B[49m\u001B[43m(\u001B[49m\u001B[43ms\u001B[49m\u001B[43m)\u001B[49m\n\u001B[0;32m    515\u001B[0m \u001B[38;5;28;01mif\u001B[39;00m \u001B[38;5;28mcls\u001B[39m \u001B[38;5;129;01mis\u001B[39;00m \u001B[38;5;28;01mNone\u001B[39;00m:\n",
      "File \u001B[1;32m~\\Documents\\Apps\\AI-Data-Science-Related\\venv\\Lib\\site-packages\\simplejson\\decoder.py:386\u001B[0m, in \u001B[0;36mJSONDecoder.decode\u001B[1;34m(self, s, _w, _PY3)\u001B[0m\n\u001B[0;32m    385\u001B[0m     s \u001B[38;5;241m=\u001B[39m \u001B[38;5;28mstr\u001B[39m(s, \u001B[38;5;28mself\u001B[39m\u001B[38;5;241m.\u001B[39mencoding)\n\u001B[1;32m--> 386\u001B[0m obj, end \u001B[38;5;241m=\u001B[39m \u001B[38;5;28;43mself\u001B[39;49m\u001B[38;5;241;43m.\u001B[39;49m\u001B[43mraw_decode\u001B[49m\u001B[43m(\u001B[49m\u001B[43ms\u001B[49m\u001B[43m)\u001B[49m\n\u001B[0;32m    387\u001B[0m end \u001B[38;5;241m=\u001B[39m _w(s, end)\u001B[38;5;241m.\u001B[39mend()\n",
      "File \u001B[1;32m~\\Documents\\Apps\\AI-Data-Science-Related\\venv\\Lib\\site-packages\\simplejson\\decoder.py:416\u001B[0m, in \u001B[0;36mJSONDecoder.raw_decode\u001B[1;34m(self, s, idx, _w, _PY3)\u001B[0m\n\u001B[0;32m    415\u001B[0m         idx \u001B[38;5;241m+\u001B[39m\u001B[38;5;241m=\u001B[39m \u001B[38;5;241m3\u001B[39m\n\u001B[1;32m--> 416\u001B[0m \u001B[38;5;28;01mreturn\u001B[39;00m \u001B[38;5;28;43mself\u001B[39;49m\u001B[38;5;241;43m.\u001B[39;49m\u001B[43mscan_once\u001B[49m\u001B[43m(\u001B[49m\u001B[43ms\u001B[49m\u001B[43m,\u001B[49m\u001B[43m \u001B[49m\u001B[43midx\u001B[49m\u001B[38;5;241;43m=\u001B[39;49m\u001B[43m_w\u001B[49m\u001B[43m(\u001B[49m\u001B[43ms\u001B[49m\u001B[43m,\u001B[49m\u001B[43m \u001B[49m\u001B[43midx\u001B[49m\u001B[43m)\u001B[49m\u001B[38;5;241;43m.\u001B[39;49m\u001B[43mend\u001B[49m\u001B[43m(\u001B[49m\u001B[43m)\u001B[49m\u001B[43m)\u001B[49m\n",
      "\u001B[1;31mJSONDecodeError\u001B[0m: Expecting value: line 1 column 1 (char 0)",
      "\nDuring handling of the above exception, another exception occurred:\n",
      "\u001B[1;31mJSONDecodeError\u001B[0m                           Traceback (most recent call last)",
      "Cell \u001B[1;32mIn[14], line 25\u001B[0m\n\u001B[0;32m     22\u001B[0m from_currency \u001B[38;5;241m=\u001B[39m \u001B[38;5;28minput\u001B[39m(\u001B[38;5;124m\"\u001B[39m\u001B[38;5;124mEnter the currency to convert from: \u001B[39m\u001B[38;5;124m\"\u001B[39m)\u001B[38;5;241m.\u001B[39mupper()\n\u001B[0;32m     23\u001B[0m to_currency \u001B[38;5;241m=\u001B[39m \u001B[38;5;28minput\u001B[39m(\u001B[38;5;124m\"\u001B[39m\u001B[38;5;124mEnter the currency to convert to: \u001B[39m\u001B[38;5;124m\"\u001B[39m)\u001B[38;5;241m.\u001B[39mupper()\n\u001B[1;32m---> 25\u001B[0m converted_amount \u001B[38;5;241m=\u001B[39m \u001B[43mconvert_currency\u001B[49m\u001B[43m(\u001B[49m\u001B[43mamount\u001B[49m\u001B[43m,\u001B[49m\u001B[43m \u001B[49m\u001B[43mfrom_currency\u001B[49m\u001B[43m,\u001B[49m\u001B[43m \u001B[49m\u001B[43mto_currency\u001B[49m\u001B[43m)\u001B[49m\n\u001B[0;32m     26\u001B[0m \u001B[38;5;28;01mif\u001B[39;00m converted_amount \u001B[38;5;129;01mis\u001B[39;00m \u001B[38;5;129;01mnot\u001B[39;00m \u001B[38;5;28;01mNone\u001B[39;00m:\n\u001B[0;32m     27\u001B[0m     \u001B[38;5;28mprint\u001B[39m(\u001B[38;5;124mf\u001B[39m\u001B[38;5;124m\"\u001B[39m\u001B[38;5;132;01m{\u001B[39;00mamount\u001B[38;5;132;01m}\u001B[39;00m\u001B[38;5;124m \u001B[39m\u001B[38;5;132;01m{\u001B[39;00mfrom_currency\u001B[38;5;132;01m}\u001B[39;00m\u001B[38;5;124m = \u001B[39m\u001B[38;5;132;01m{\u001B[39;00mconverted_amount\u001B[38;5;132;01m}\u001B[39;00m\u001B[38;5;124m \u001B[39m\u001B[38;5;132;01m{\u001B[39;00mto_currency\u001B[38;5;132;01m}\u001B[39;00m\u001B[38;5;124m\"\u001B[39m)\n",
      "Cell \u001B[1;32mIn[14], line 10\u001B[0m, in \u001B[0;36mconvert_currency\u001B[1;34m(amount, from_currency, to_currency)\u001B[0m\n\u001B[0;32m      7\u001B[0m BASE_URL \u001B[38;5;241m=\u001B[39m \u001B[38;5;124m\"\u001B[39m\u001B[38;5;124mhttps://api.exchangerate-api.com/v4/latest/\u001B[39m\u001B[38;5;124m\"\u001B[39m\n\u001B[0;32m      9\u001B[0m response \u001B[38;5;241m=\u001B[39m requests\u001B[38;5;241m.\u001B[39mget(BASE_URL \u001B[38;5;241m+\u001B[39m from_currency)\n\u001B[1;32m---> 10\u001B[0m data \u001B[38;5;241m=\u001B[39m \u001B[43mresponse\u001B[49m\u001B[38;5;241;43m.\u001B[39;49m\u001B[43mjson\u001B[49m\u001B[43m(\u001B[49m\u001B[43m)\u001B[49m\n\u001B[0;32m     12\u001B[0m \u001B[38;5;28;01mif\u001B[39;00m \u001B[38;5;124m\"\u001B[39m\u001B[38;5;124merror\u001B[39m\u001B[38;5;124m\"\u001B[39m \u001B[38;5;129;01min\u001B[39;00m data:\n\u001B[0;32m     13\u001B[0m     \u001B[38;5;28mprint\u001B[39m(\u001B[38;5;124m\"\u001B[39m\u001B[38;5;124mError:\u001B[39m\u001B[38;5;124m\"\u001B[39m, data[\u001B[38;5;124m\"\u001B[39m\u001B[38;5;124merror\u001B[39m\u001B[38;5;124m\"\u001B[39m])\n",
      "File \u001B[1;32m~\\Documents\\Apps\\AI-Data-Science-Related\\venv\\Lib\\site-packages\\requests\\models.py:975\u001B[0m, in \u001B[0;36mResponse.json\u001B[1;34m(self, **kwargs)\u001B[0m\n\u001B[0;32m    971\u001B[0m     \u001B[38;5;28;01mreturn\u001B[39;00m complexjson\u001B[38;5;241m.\u001B[39mloads(\u001B[38;5;28mself\u001B[39m\u001B[38;5;241m.\u001B[39mtext, \u001B[38;5;241m*\u001B[39m\u001B[38;5;241m*\u001B[39mkwargs)\n\u001B[0;32m    972\u001B[0m \u001B[38;5;28;01mexcept\u001B[39;00m JSONDecodeError \u001B[38;5;28;01mas\u001B[39;00m e:\n\u001B[0;32m    973\u001B[0m     \u001B[38;5;66;03m# Catch JSON-related errors and raise as requests.JSONDecodeError\u001B[39;00m\n\u001B[0;32m    974\u001B[0m     \u001B[38;5;66;03m# This aliases json.JSONDecodeError and simplejson.JSONDecodeError\u001B[39;00m\n\u001B[1;32m--> 975\u001B[0m     \u001B[38;5;28;01mraise\u001B[39;00m RequestsJSONDecodeError(e\u001B[38;5;241m.\u001B[39mmsg, e\u001B[38;5;241m.\u001B[39mdoc, e\u001B[38;5;241m.\u001B[39mpos)\n",
      "\u001B[1;31mJSONDecodeError\u001B[0m: Expecting value: line 1 column 1 (char 0)"
     ]
    }
   ],
   "source": [
    "# Currency Converter\n",
    "\n",
    "import requests\n",
    "\n",
    "def convert_currency(amount, from_currency, to_currency):\n",
    "    API_KEY = \"your_api_key\"\n",
    "    BASE_URL = \"https://api.exchangerate-api.com/v4/latest/\"\n",
    "\n",
    "    response = requests.get(BASE_URL + from_currency)\n",
    "    data = response.json()\n",
    "\n",
    "    if \"error\" in data:\n",
    "        print(\"Error:\", data[\"error\"])\n",
    "        return None\n",
    "\n",
    "    conversion_rate = data[\"rates\"][to_currency]\n",
    "    converted_amount = amount * conversion_rate\n",
    "    return converted_amount\n",
    "\n",
    "# Test the currency converter\n",
    "amount = float(input(\"Enter the amount: \"))\n",
    "from_currency = input(\"Enter the currency to convert from: \").upper()\n",
    "to_currency = input(\"Enter the currency to convert to: \").upper()\n",
    "\n",
    "converted_amount = convert_currency(amount, from_currency, to_currency)\n",
    "if converted_amount is not None:\n",
    "    print(f\"{amount} {from_currency} = {converted_amount} {to_currency}\")\n"
   ],
   "metadata": {
    "collapsed": false
   }
  },
  {
   "cell_type": "code",
   "execution_count": 16,
   "outputs": [
    {
     "name": "stdout",
     "output_type": "stream",
     "text": [
      "  |   |  \n",
      "---------\n",
      "  |   |  \n",
      "---------\n",
      "  |   |  \n",
      "---------\n",
      "  |   |  \n",
      "---------\n",
      "  |   | X\n",
      "---------\n",
      "  |   |  \n",
      "---------\n"
     ]
    },
    {
     "ename": "ValueError",
     "evalue": "invalid literal for int() with base 10: ''",
     "output_type": "error",
     "traceback": [
      "\u001B[1;31m---------------------------------------------------------------------------\u001B[0m",
      "\u001B[1;31mValueError\u001B[0m                                Traceback (most recent call last)",
      "Cell \u001B[1;32mIn[16], line 54\u001B[0m\n\u001B[0;32m     51\u001B[0m             \u001B[38;5;28mprint\u001B[39m(\u001B[38;5;124m\"\u001B[39m\u001B[38;5;124mInvalid move. Try again.\u001B[39m\u001B[38;5;124m\"\u001B[39m)\n\u001B[0;32m     53\u001B[0m \u001B[38;5;66;03m# Start the game\u001B[39;00m\n\u001B[1;32m---> 54\u001B[0m \u001B[43mplay_game\u001B[49m\u001B[43m(\u001B[49m\u001B[43m)\u001B[49m\n",
      "Cell \u001B[1;32mIn[16], line 34\u001B[0m, in \u001B[0;36mplay_game\u001B[1;34m()\u001B[0m\n\u001B[0;32m     32\u001B[0m print_board(board)\n\u001B[0;32m     33\u001B[0m row \u001B[38;5;241m=\u001B[39m \u001B[38;5;28mint\u001B[39m(\u001B[38;5;28minput\u001B[39m(\u001B[38;5;124m\"\u001B[39m\u001B[38;5;124mEnter the row (0-2): \u001B[39m\u001B[38;5;124m\"\u001B[39m))\n\u001B[1;32m---> 34\u001B[0m col \u001B[38;5;241m=\u001B[39m \u001B[38;5;28;43mint\u001B[39;49m\u001B[43m(\u001B[49m\u001B[38;5;28;43minput\u001B[39;49m\u001B[43m(\u001B[49m\u001B[38;5;124;43m\"\u001B[39;49m\u001B[38;5;124;43mEnter the column (0-2): \u001B[39;49m\u001B[38;5;124;43m\"\u001B[39;49m\u001B[43m)\u001B[49m\u001B[43m)\u001B[49m\n\u001B[0;32m     36\u001B[0m \u001B[38;5;28;01mif\u001B[39;00m board[row][col] \u001B[38;5;241m==\u001B[39m \u001B[38;5;124m\"\u001B[39m\u001B[38;5;124m \u001B[39m\u001B[38;5;124m\"\u001B[39m:\n\u001B[0;32m     37\u001B[0m     board[row][col] \u001B[38;5;241m=\u001B[39m current_player\n",
      "\u001B[1;31mValueError\u001B[0m: invalid literal for int() with base 10: ''"
     ]
    }
   ],
   "source": [
    "# Tic-Tac-Toe Game\n",
    "\n",
    "def print_board(board):\n",
    "    for row in board:\n",
    "        print(\" | \".join(row))\n",
    "        print(\"-\" * 9)\n",
    "\n",
    "def check_winner(board):\n",
    "    for i in range(3):\n",
    "        if board[i][0] == board[i][1] == board[i][2] != \" \":\n",
    "            return board[i][0]\n",
    "\n",
    "        if board[0][i] == board[1][i] == board[2][i] != \" \":\n",
    "            return board[0][i]\n",
    "\n",
    "    if board[0][0] == board[1][1] == board[2][2] != \" \":\n",
    "        return board[0][0]\n",
    "\n",
    "    if board[0][2] == board[1][1] == board[2][0] != \" \":\n",
    "        return board[0][2]\n",
    "\n",
    "    return None\n",
    "\n",
    "\n",
    "\n",
    "def play_game():\n",
    "    board = [[\" \", \" \", \" \"], [\" \", \" \", \" \"], [\" \", \" \", \" \"]]\n",
    "    current_player = \"X\"\n",
    "    game_over = False\n",
    "\n",
    "    while not game_over:\n",
    "        print_board(board)\n",
    "        row = int(input(\"Enter the row (0-2): \"))\n",
    "        col = int(input(\"Enter the column (0-2): \"))\n",
    "\n",
    "        if board[row][col] == \" \":\n",
    "            board[row][col] = current_player\n",
    "\n",
    "            winner = check_winner(board)\n",
    "            if winner:\n",
    "                print_board(board)\n",
    "                print(\"Congratulations! Player\", winner, \"wins!\")\n",
    "                game_over = True\n",
    "            elif all([board[i][j] != \" \" for i in range(3) for j in range(3)]):\n",
    "                print_board(board)\n",
    "                print(\"It's a tie!\")\n",
    "                game_over = True\n",
    "            else:\n",
    "                current_player = \"O\" if current_player == \"X\" else \"X\"\n",
    "        else:\n",
    "            print(\"Invalid move. Try again.\")\n",
    "\n",
    "# Start the game\n",
    "play_game()\n"
   ],
   "metadata": {
    "collapsed": false
   }
  },
  {
   "cell_type": "code",
   "execution_count": null,
   "outputs": [],
   "source": [],
   "metadata": {
    "collapsed": false
   }
  }
 ],
 "metadata": {
  "kernelspec": {
   "display_name": "Python 3",
   "language": "python",
   "name": "python3"
  },
  "language_info": {
   "codemirror_mode": {
    "name": "ipython",
    "version": 2
   },
   "file_extension": ".py",
   "mimetype": "text/x-python",
   "name": "python",
   "nbconvert_exporter": "python",
   "pygments_lexer": "ipython2",
   "version": "2.7.6"
  }
 },
 "nbformat": 4,
 "nbformat_minor": 0
}

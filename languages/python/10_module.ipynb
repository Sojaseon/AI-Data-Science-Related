{
 "cells": [
  {
   "cell_type": "markdown",
   "source": [
    "# Module 10: Introduction to Web Scraping with Python\n",
    "\n",
    "## Using requests and BeautifulSoup\n",
    "\n",
    "Requests is a Python module that you can use to send all kinds of HTTP requests. BeautifulSoup is a Python library for pulling data out of HTML and XML files."
   ],
   "metadata": {
    "collapsed": false
   }
  },
  {
   "cell_type": "code",
   "execution_count": 1,
   "metadata": {
    "collapsed": true
   },
   "outputs": [],
   "source": [
    "import requests\n",
    "from bs4 import BeautifulSoup\n",
    "\n",
    "# Use requests to get the content of the webpage\n",
    "# Note: In this example, I'm using a freely available website for practicing web scraping.\n",
    "# Make sure to respect the robots.txt file and terms of service of the website you're scraping.\n",
    "\n",
    "url = \"http://books.toscrape.com/\"\n",
    "response = requests.get(url)\n",
    "\n",
    "# Use BeautifulSoup to parse the HTML content of the page\n",
    "soup = BeautifulSoup(response.content, 'html.parser')"
   ]
  },
  {
   "cell_type": "markdown",
   "source": [
    "## Scraping and parsing simple websites\n",
    "\n",
    "Once you have the HTML content of the page, you can use BeautifulSoup to find specific elements.\n"
   ],
   "metadata": {
    "collapsed": false
   }
  },
  {
   "cell_type": "code",
   "execution_count": 2,
   "outputs": [
    {
     "name": "stdout",
     "output_type": "stream",
     "text": [
      "Title of the webpage: \n",
      "    All products | Books to Scrape - Sandbox\n",
      "\n",
      "First h3 tag on the page: <h3><a href=\"catalogue/a-light-in-the-attic_1000/index.html\" title=\"A Light in the Attic\">A Light in the ...</a></h3>\n",
      "Text of the first h3 tag on the page: A Light in the ...\n"
     ]
    }
   ],
   "source": [
    "# Get the title of the webpage\n",
    "title = soup.title.string\n",
    "print(\"Title of the webpage:\", title)\n",
    "\n",
    "# Get the first h3 tag on the page\n",
    "first_h3 = soup.find('h3')\n",
    "print(\"First h3 tag on the page:\", first_h3)\n",
    "\n",
    "# Get the text of the first h3 tag on the page\n",
    "first_h3_text = first_h3.text\n",
    "print(\"Text of the first h3 tag on the page:\", first_h3_text)"
   ],
   "metadata": {
    "collapsed": false
   }
  }
 ],
 "metadata": {
  "kernelspec": {
   "display_name": "Python 3",
   "language": "python",
   "name": "python3"
  },
  "language_info": {
   "codemirror_mode": {
    "name": "ipython",
    "version": 2
   },
   "file_extension": ".py",
   "mimetype": "text/x-python",
   "name": "python",
   "nbconvert_exporter": "python",
   "pygments_lexer": "ipython2",
   "version": "2.7.6"
  }
 },
 "nbformat": 4,
 "nbformat_minor": 0
}

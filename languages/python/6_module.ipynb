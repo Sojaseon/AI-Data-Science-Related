{
 "cells": [
  {
   "cell_type": "markdown",
   "source": [
    "# Module 6: File Handling and Exception\n",
    "\n",
    "## Reading from and writing to files\n",
    "\n",
    "In Python, you can read from and write to files using built-in functions. Always remember to close the file when you're done with it."
   ],
   "metadata": {
    "collapsed": false
   }
  },
  {
   "cell_type": "code",
   "execution_count": 1,
   "metadata": {
    "collapsed": true
   },
   "outputs": [
    {
     "name": "stdout",
     "output_type": "stream",
     "text": [
      "Hello, World!\n"
     ]
    }
   ],
   "source": [
    "# Writing to a file\n",
    "with open('test.txt', 'w') as f:\n",
    "    f.write('Hello, World!')\n",
    "\n",
    "# Reading from a file\n",
    "with open('test.txt', 'r') as f:\n",
    "    print(f.read())"
   ]
  },
  {
   "cell_type": "markdown",
   "source": [
    "## Exception handling: try, except, finally\n",
    "\n",
    "Python uses try and except blocks to handle exceptions. You can use the finally block to ensure a block of code runs no matter what."
   ],
   "metadata": {
    "collapsed": false
   }
  },
  {
   "cell_type": "code",
   "execution_count": 2,
   "outputs": [
    {
     "name": "stdout",
     "output_type": "stream",
     "text": [
      "Oops, you can't divide by zero!\n",
      "End of try/except block\n"
     ]
    }
   ],
   "source": [
    "try:\n",
    "    # Try to do something that might cause an exception\n",
    "    result = 10 / 0\n",
    "except ZeroDivisionError:\n",
    "    # Handle the exception\n",
    "    print(\"Oops, you can't divide by zero!\")\n",
    "finally:\n",
    "    # This code runs no matter what\n",
    "    print(\"End of try/except block\")"
   ],
   "metadata": {
    "collapsed": false
   }
  },
  {
   "cell_type": "code",
   "execution_count": null,
   "outputs": [],
   "source": [],
   "metadata": {
    "collapsed": false
   }
  }
 ],
 "metadata": {
  "kernelspec": {
   "display_name": "Python 3",
   "language": "python",
   "name": "python3"
  },
  "language_info": {
   "codemirror_mode": {
    "name": "ipython",
    "version": 2
   },
   "file_extension": ".py",
   "mimetype": "text/x-python",
   "name": "python",
   "nbconvert_exporter": "python",
   "pygments_lexer": "ipython2",
   "version": "2.7.6"
  }
 },
 "nbformat": 4,
 "nbformat_minor": 0
}

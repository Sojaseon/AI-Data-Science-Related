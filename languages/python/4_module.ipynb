{
 "cells": [
  {
   "cell_type": "markdown",
   "source": [
    "# Module 4: Python Data Structures\n",
    "\n",
    "## Lists\n",
    "\n",
    "Lists are ordered collections of items. Lists are mutable, meaning their elements can be changed.\n"
   ],
   "metadata": {
    "collapsed": false
   }
  },
  {
   "cell_type": "code",
   "execution_count": 1,
   "metadata": {
    "collapsed": true
   },
   "outputs": [
    {
     "name": "stdout",
     "output_type": "stream",
     "text": [
      "Fruits list: ['apple', 'banana', 'cherry']\n",
      "First fruit: apple\n",
      "Fruits list after modification: ['avocado', 'banana', 'cherry']\n"
     ]
    }
   ],
   "source": [
    "fruits = [\"apple\", \"banana\", \"cherry\"]\n",
    "print(\"Fruits list:\", fruits)\n",
    "\n",
    "# You can access elements by their index\n",
    "print(\"First fruit:\", fruits[0])\n",
    "\n",
    "# And you can modify them\n",
    "fruits[0] = \"avocado\"\n",
    "print(\"Fruits list after modification:\", fruits)"
   ]
  },
  {
   "cell_type": "markdown",
   "source": [
    "## Tuples\n",
    "\n",
    "Tuples are similar to lists, but they are immutable, meaning their elements cannot be changed."
   ],
   "metadata": {
    "collapsed": false
   }
  },
  {
   "cell_type": "code",
   "execution_count": 2,
   "outputs": [
    {
     "name": "stdout",
     "output_type": "stream",
     "text": [
      "Fruits tuple: ('apple', 'banana', 'cherry')\n",
      "First fruit: apple\n"
     ]
    }
   ],
   "source": [
    "fruits_tuple = (\"apple\", \"banana\", \"cherry\")\n",
    "print(\"Fruits tuple:\", fruits_tuple)\n",
    "\n",
    "# You can access elements by their index\n",
    "print(\"First fruit:\", fruits_tuple[0])\n",
    "\n",
    "# But you cannot modify them\n",
    "# The following line would give an error\n",
    "# fruits_tuple[0] = \"avocado\"\n"
   ],
   "metadata": {
    "collapsed": false
   }
  },
  {
   "cell_type": "markdown",
   "source": [
    "## Sets\n",
    "\n",
    "Sets are unordered collections of unique elements."
   ],
   "metadata": {
    "collapsed": false
   }
  },
  {
   "cell_type": "code",
   "execution_count": 4,
   "outputs": [
    {
     "name": "stdout",
     "output_type": "stream",
     "text": [
      "Fruits set: {'banana', 'cherry', 'apple'}\n"
     ]
    }
   ],
   "source": [
    "fruits_set = {\"apple\", \"banana\", \"cherry\", \"apple\"}\n",
    "print(\"Fruits set:\", fruits_set)\n",
    "\n",
    "# Note that \"apple\" only appears once, even though we added it twice\n",
    "\n",
    "# Markdown cell"
   ],
   "metadata": {
    "collapsed": false
   }
  },
  {
   "cell_type": "markdown",
   "source": [
    "## Dictionaries\n",
    "\n",
    "Dictionaries store key-value pairs. The keys must be unique."
   ],
   "metadata": {
    "collapsed": false
   }
  },
  {
   "cell_type": "code",
   "execution_count": 6,
   "outputs": [
    {
     "name": "stdout",
     "output_type": "stream",
     "text": [
      "Fruits dictionary: {'apple': 1, 'banana': 2, 'cherry': 3}\n",
      "Number of apples: 1\n",
      "Fruits dictionary after modification: {'apple': 4, 'banana': 2, 'cherry': 3}\n"
     ]
    }
   ],
   "source": [
    "fruits_dict = {\"apple\": 1, \"banana\": 2, \"cherry\": 3}\n",
    "print(\"Fruits dictionary:\", fruits_dict)\n",
    "\n",
    "# You can access elements by their key\n",
    "print(\"Number of apples:\", fruits_dict[\"apple\"])\n",
    "\n",
    "# And you can modify them\n",
    "fruits_dict[\"apple\"] = 4\n",
    "print(\"Fruits dictionary after modification:\", fruits_dict)"
   ],
   "metadata": {
    "collapsed": false
   }
  },
  {
   "cell_type": "code",
   "execution_count": null,
   "outputs": [],
   "source": [],
   "metadata": {
    "collapsed": false
   }
  }
 ],
 "metadata": {
  "kernelspec": {
   "display_name": "Python 3",
   "language": "python",
   "name": "python3"
  },
  "language_info": {
   "codemirror_mode": {
    "name": "ipython",
    "version": 2
   },
   "file_extension": ".py",
   "mimetype": "text/x-python",
   "name": "python",
   "nbconvert_exporter": "python",
   "pygments_lexer": "ipython2",
   "version": "2.7.6"
  }
 },
 "nbformat": 4,
 "nbformat_minor": 0
}

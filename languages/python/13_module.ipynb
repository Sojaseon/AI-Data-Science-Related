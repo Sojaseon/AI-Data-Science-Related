{
 "cells": [
  {
   "cell_type": "markdown",
   "source": [
    "# Module 13: Python Testing\n",
    "\n",
    "## Introduction to Unit Testing in Python\n",
    "\n",
    "Unit testing is a type of testing to check if the small pieces of code are working as expected. In Python, we have a built-in module `unittest` to write and run the unit tests.\n"
   ],
   "metadata": {
    "collapsed": false
   }
  },
  {
   "cell_type": "markdown",
   "source": [
    "# Here is an example of a unit test for a simple function that adds two numbers:\n",
    "\n",
    "```python\n",
    "import unittest\n",
    "\n",
    "def add_two_numbers(a, b):\n",
    "    return a + b\n",
    "\n",
    "class TestAddTwoNumbers(unittest.TestCase):\n",
    "    def test_add_two_numbers(self):\n",
    "        self.assertEqual(add_two_numbers(3, 5), 8)\n",
    "\n",
    "if __name__ == '__main__':\n",
    "    unittest.main()"
   ],
   "metadata": {
    "collapsed": false
   }
  },
  {
   "cell_type": "markdown",
   "source": [
    "Note: This is a standalone script, and you would typically run it in a Python file. To run the unit test, save it to a file and execute it with Python in your command line."
   ],
   "metadata": {
    "collapsed": false
   }
  },
  {
   "cell_type": "markdown",
   "source": [
    "# Using Python's unittest library\n",
    "The unittest module provides a rich set of tools for constructing and running tests. This includes:\n",
    "\n",
    " * test automation: you can use it to automate testing and create test suites.\n",
    " * test case: a base class for creating new test cases.\n",
    " * test loader: for loading test cases and suites.\n",
    " * test runner: a way to run tests and report the results."
   ],
   "metadata": {
    "collapsed": false
   }
  },
  {
   "cell_type": "code",
   "execution_count": null,
   "metadata": {
    "collapsed": true
   },
   "outputs": [],
   "source": [
    "import unittest\n",
    "\n",
    "def multiply_two_numbers(a, b):\n",
    "    return a * b\n",
    "\n",
    "class TestMultiplyTwoNumbers(unittest.TestCase):\n",
    "    def test_multiply_two_numbers(self):\n",
    "        self.assertEqual(multiply_two_numbers(3, 5), 15)\n",
    "\n",
    "if __name__ == '__main__':\n",
    "    unittest.main()\n"
   ]
  },
  {
   "cell_type": "markdown",
   "source": [
    "Note: This is a standalone script, and you would typically run it in a Python file. To run the unit test, save it to a file and execute it with Python in your command line.\n",
    "This introduces the concept of unit testing in Python, using the built-in `unittest` module. It provides examples of simple unit tests. However, due to the limitations of Jupyter notebooks, these unit tests are intended to be run in standalone Python scripts.\n"
   ],
   "metadata": {
    "collapsed": false
   }
  },
  {
   "cell_type": "code",
   "execution_count": null,
   "outputs": [],
   "source": [],
   "metadata": {
    "collapsed": false
   }
  }
 ],
 "metadata": {
  "kernelspec": {
   "display_name": "Python 3",
   "language": "python",
   "name": "python3"
  },
  "language_info": {
   "codemirror_mode": {
    "name": "ipython",
    "version": 2
   },
   "file_extension": ".py",
   "mimetype": "text/x-python",
   "name": "python",
   "nbconvert_exporter": "python",
   "pygments_lexer": "ipython2",
   "version": "2.7.6"
  }
 },
 "nbformat": 4,
 "nbformat_minor": 0
}

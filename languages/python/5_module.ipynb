{
 "cells": [
  {
   "cell_type": "markdown",
   "source": [
    "# Module 5: Python Functions\n",
    "\n",
    "## Defining Functions\n",
    "\n",
    "Functions in Python are defined using the `def` keyword."
   ],
   "metadata": {
    "collapsed": false
   }
  },
  {
   "cell_type": "code",
   "execution_count": 8,
   "metadata": {
    "collapsed": true
   },
   "outputs": [
    {
     "name": "stdout",
     "output_type": "stream",
     "text": [
      "Hello, Storm Schutte\n"
     ]
    }
   ],
   "source": [
    "def greet(name):\n",
    "    print(\"Hello,\", name)\n",
    "\n",
    "greet(\"Storm Schutte\")"
   ]
  },
  {
   "cell_type": "markdown",
   "source": [
    "## Function Arguments and Return Values\n",
    "\n",
    "Functions can take arguments and return values."
   ],
   "metadata": {
    "collapsed": false
   }
  },
  {
   "cell_type": "code",
   "execution_count": 5,
   "outputs": [
    {
     "name": "stdout",
     "output_type": "stream",
     "text": [
      "Result = 8\n"
     ]
    }
   ],
   "source": [
    "def add_numbers(x, y):\n",
    "    return x + y\n",
    "\n",
    "result = add_numbers(3, 5)\n",
    "print(\"Result =\", result)"
   ],
   "metadata": {
    "collapsed": false
   }
  },
  {
   "cell_type": "markdown",
   "source": [
    "## Lambda Functions\n",
    "\n",
    "Lambda functions are small anonymous functions that can be defined in a single line."
   ],
   "metadata": {
    "collapsed": false
   }
  },
  {
   "cell_type": "code",
   "execution_count": 6,
   "outputs": [
    {
     "name": "stdout",
     "output_type": "stream",
     "text": [
      "Result = 15\n"
     ]
    }
   ],
   "source": [
    "multiply = lambda x, y: x * y\n",
    "result = multiply(3, 5)\n",
    "print(\"Result =\", result)"
   ],
   "metadata": {
    "collapsed": false
   }
  },
  {
   "cell_type": "markdown",
   "source": [
    "## Modules and Packages\n",
    "\n",
    "A module is a file containing Python definitions and statements. Python modules have a filename and end with the extension `.py`.\n",
    "\n",
    "You can use any Python source file as a module by executing an import statement in some other Python source file.\n",
    "\n",
    "A package is a way of organizing related modules into a single directory hierarchy."
   ],
   "metadata": {
    "collapsed": false
   }
  },
  {
   "cell_type": "code",
   "execution_count": 7,
   "outputs": [
    {
     "name": "stdout",
     "output_type": "stream",
     "text": [
      "The square root of 16 is 4.0\n"
     ]
    }
   ],
   "source": [
    "# Importing the math module\n",
    "import math\n",
    "\n",
    "# Using a function from the math module\n",
    "print(\"The square root of 16 is\", math.sqrt(16))"
   ],
   "metadata": {
    "collapsed": false
   }
  },
  {
   "cell_type": "markdown",
   "source": [
    "The `math` module is a standard module in Python and provides mathematical related functions and constants."
   ],
   "metadata": {
    "collapsed": false
   }
  },
  {
   "cell_type": "code",
   "execution_count": null,
   "outputs": [],
   "source": [],
   "metadata": {
    "collapsed": false
   }
  }
 ],
 "metadata": {
  "kernelspec": {
   "display_name": "Python 3",
   "language": "python",
   "name": "python3"
  },
  "language_info": {
   "codemirror_mode": {
    "name": "ipython",
    "version": 2
   },
   "file_extension": ".py",
   "mimetype": "text/x-python",
   "name": "python",
   "nbconvert_exporter": "python",
   "pygments_lexer": "ipython2",
   "version": "2.7.6"
  }
 },
 "nbformat": 4,
 "nbformat_minor": 0
}

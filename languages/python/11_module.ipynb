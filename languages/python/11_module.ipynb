{
 "cells": [
  {
   "cell_type": "markdown",
   "source": [
    "# Module 11: Python for Web Development\n",
    "\n",
    "## Introduction to Flask\n",
    "\n",
    "Flask is a lightweight web server and framework for Python. It's easy to learn and simple to use, enabling you to build your web app in a short amount of time.\n",
    "\n",
    "Note: Jupyter Notebook isn't designed to run web servers directly within it. So, we will be showing the Flask code which you can run in a separate Python file.\n",
    "\n",
    "## Introduction to Django\n",
    "\n",
    "Django is a high-level Python Web framework that encourages rapid development and clean, pragmatic design. Built by experienced developers, it takes care of much of the hassle of Web development, so you can focus on writing your app without needing to reinvent the wheel.\n",
    "\n",
    "Note: Jupyter Notebook isn't designed to run web servers directly within it. So, we will be showing the Django code which you can run in a separate Python file.\n",
    "\n"
   ],
   "metadata": {
    "collapsed": false
   }
  },
  {
   "cell_type": "markdown",
   "source": [
    "# FLASK"
   ],
   "metadata": {
    "collapsed": false
   }
  },
  {
   "cell_type": "code",
   "execution_count": 1,
   "metadata": {
    "collapsed": true
   },
   "outputs": [],
   "source": [
    "# If running this notebook in an environment where Flask is not installed, uncomment the line below to install it\n",
    "# !pip install flask"
   ]
  },
  {
   "cell_type": "markdown",
   "source": [
    "# Create a file `app.py` and write the following code to it:\n",
    "\n",
    "```python\n",
    "from flask import Flask\n",
    "app = Flask(__name__)\n",
    "\n",
    "@app.route('/')\n",
    "def hello_world():\n",
    "    return 'Hello, World!'\n",
    "\n",
    "if __name__ == '__main__':\n",
    "    app.run(debug=True)"
   ],
   "metadata": {
    "collapsed": false
   }
  },
  {
   "cell_type": "markdown",
   "source": [
    "## Creating simple web applications\n",
    "With Flask, it's very easy to create a simple web application. Here's a small example of a Flask application that returns a \"Hello, World!\" message.\n",
    "\n",
    "Note: To run this application, create a new Python file and write the given code into it. Then run the Python file from your terminal or command prompt."
   ],
   "metadata": {
    "collapsed": false
   }
  },
  {
   "cell_type": "code",
   "execution_count": 3,
   "outputs": [],
   "source": [
    "from flask import Flask\n",
    "app = Flask(__name__)\n",
    "\n",
    "@app.route('/')\n",
    "def home():\n",
    "    return 'Hello, World!'\n",
    "\n",
    "# if __name__ == '__main__':\n",
    "#     app.run(debug=True)\n"
   ],
   "metadata": {
    "collapsed": false
   }
  },
  {
   "cell_type": "markdown",
   "source": [
    "# Running the application:\n",
    "in bash python app.py\n",
    "\n",
    "This will start the Flask development server. You can view your application by visiting http://127.0.0.1:5000/ in your web browser.\n",
    "\n",
    "This is a basic introduction to Flask, a lightweight Python web development framework. Due to the limitations of Jupyter Notebook, we can't run the web server directly in the notebook. So, the Flask code is intended to be run in a separate Python file, outside of the notebook.\n",
    "\n",
    "\n"
   ],
   "metadata": {
    "collapsed": false
   }
  },
  {
   "cell_type": "markdown",
   "source": [
    "# DJANGO\n"
   ],
   "metadata": {
    "collapsed": false
   }
  },
  {
   "cell_type": "markdown",
   "source": [
    "To start a new Django project, you'll want to use the command line. Here's a sequence of commands you could use to create a new Django project:\n",
    "\n",
    "### 1. Install Django if you haven't done so already.\n",
    "pip install django\n",
    "\n",
    "### 2. Start a new Django project.\n",
    "django-admin startproject myproject\n",
    "\n",
    "### 3. Move into your new project directory.\n",
    "cd myproject\n",
    "\n",
    "### 4. Start a new app within the project.\n",
    "Replace 'myapp' with whatever you want to name your application.\n",
    "python manage.py startapp myapp\n",
    "\n"
   ],
   "metadata": {
    "collapsed": false
   }
  },
  {
   "cell_type": "markdown",
   "source": [
    "## Creating simple web applications\n",
    "With Django, you can build robust web applications. Here's a small example of a Django view that returns a \"Hello, World!\" message.\n",
    "\n",
    "Note: To run this application, create a new Python file and write the given code into it. Then run the Python file from your terminal or command prompt."
   ],
   "metadata": {
    "collapsed": false
   }
  },
  {
   "cell_type": "code",
   "execution_count": 4,
   "outputs": [],
   "source": [
    "# First, you'll need to create a view in your myapp/views.py file:\n",
    "from django.http import HttpResponse\n",
    "from django.shortcuts import render\n",
    "\n",
    "def hello(request):\n",
    "    return HttpResponse(\"Hello, World!\")"
   ],
   "metadata": {
    "collapsed": false
   }
  },
  {
   "cell_type": "code",
   "execution_count": null,
   "outputs": [],
   "source": [
    "# Then, create a URL pattern for this view in your myapp/urls.py file:\n",
    "from django.urls import path\n",
    "\n",
    "from . import views\n",
    "\n",
    "urlpatterns = [\n",
    "    path('hello/', views.hello, name='hello'),\n",
    "]\n"
   ],
   "metadata": {
    "collapsed": false
   }
  },
  {
   "cell_type": "code",
   "execution_count": null,
   "outputs": [],
   "source": [
    "# Finally, you'll need to include this URL pattern in your project's urls.py file:\n",
    "from django.contrib import admin\n",
    "from django.urls import include, path\n",
    "\n",
    "urlpatterns = [\n",
    "    path('myapp/', include('myapp.urls')),\n",
    "    path('admin/', admin.site.urls),\n",
    "]\n"
   ],
   "metadata": {
    "collapsed": false
   }
  },
  {
   "cell_type": "markdown",
   "source": [
    "# Running the application:\n",
    "in bash python manage.py runserver\n",
    "\n",
    "You can view your application by visiting http://127.0.0.1:8000/myapp/hello in your web browser.\n",
    "\n",
    "This is a basic introduction to Django, a high-level Python web development framework. Due to the limitations of Jupyter Notebook, we can't run the web server directly in the notebook. So, the Django code is intended to be run in a separate Python file, outside of the notebook.\n",
    "\n"
   ],
   "metadata": {
    "collapsed": false
   }
  },
  {
   "cell_type": "code",
   "execution_count": null,
   "outputs": [],
   "source": [],
   "metadata": {
    "collapsed": false
   }
  }
 ],
 "metadata": {
  "kernelspec": {
   "display_name": "Python 3",
   "language": "python",
   "name": "python3"
  },
  "language_info": {
   "codemirror_mode": {
    "name": "ipython",
    "version": 2
   },
   "file_extension": ".py",
   "mimetype": "text/x-python",
   "name": "python",
   "nbconvert_exporter": "python",
   "pygments_lexer": "ipython2",
   "version": "2.7.6"
  }
 },
 "nbformat": 4,
 "nbformat_minor": 0
}

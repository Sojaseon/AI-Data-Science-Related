{
 "cells": [
  {
   "cell_type": "markdown",
   "source": [
    "# Module 1: Introduction to Python\n",
    "\n",
    "## Overview of Python:\n",
    "\n",
    "Python is a high-level, interpreted programming language developed by Guido van Rossum. It was first released in 1991. Python's design philosophy emphasizes code readability and ease of use. It allows programmers to express concepts in fewer lines of code than would be possible in languages such as C++ or Java.\n",
    "\n",
    "Python supports multiple programming paradigms, including procedural, object-oriented, and functional programming. Python is often described as a \"batteries included\" language due to its comprehensive standard library.\n",
    "\n",
    "## Advantages of Python:\n",
    "\n",
    "- Readable and maintainable code\n",
    "- Multiple programming paradigms\n",
    "- Compatible with major platforms and systems\n",
    "- Robust standard library\n",
    "- Open source and community development\n",
    "- Versatility (web development, data analysis, AI, and more)\n",
    "\n",
    "## Installation and Setup\n",
    "\n",
    "Installing Python and setting up your development is an important first step. Please refer to python.org for installation instructions: https://www.python.org/downloads/\n",
    "\n",
    "For writing Python programs, you can use any text editor or an Integrated Development Environment (IDE) like PyCharm, Jupyter Notebook, or Google Colab.\n",
    "\n",
    "## Understanding the Python Interactive Shell\n",
    "\n",
    "The Python interactive shell allows you to execute python commands one at a time. It's an excellent place to experiment with small code snippets and to test your understanding of Python concepts.\n",
    "\n",
    "You can start the Python interactive shell by simply typing 'python' in your terminal/command prompt.\n"
   ],
   "metadata": {
    "collapsed": false
   }
  },
  {
   "cell_type": "code",
   "execution_count": 2,
   "outputs": [
    {
     "name": "stdout",
     "output_type": "stream",
     "text": [
      "Hello, World!\n"
     ]
    }
   ],
   "source": [
    "print(\"Hello, People of Earth\")"
   ],
   "metadata": {
    "collapsed": false
   }
  },
  {
   "cell_type": "markdown",
   "source": [
    "Here, we used Python's built-in print function to display \"Hello, World!\" to the screen.\n",
    "\n",
    "# Congratulations on writing your first Python program!"
   ],
   "metadata": {
    "collapsed": false
   }
  },
  {
   "cell_type": "code",
   "execution_count": null,
   "outputs": [],
   "source": [],
   "metadata": {
    "collapsed": false
   }
  }
 ],
 "metadata": {
  "kernelspec": {
   "display_name": "Python 3",
   "language": "python",
   "name": "python3"
  },
  "language_info": {
   "codemirror_mode": {
    "name": "ipython",
    "version": 2
   },
   "file_extension": ".py",
   "mimetype": "text/x-python",
   "name": "python",
   "nbconvert_exporter": "python",
   "pygments_lexer": "ipython2",
   "version": "2.7.6"
  }
 },
 "nbformat": 4,
 "nbformat_minor": 0
}

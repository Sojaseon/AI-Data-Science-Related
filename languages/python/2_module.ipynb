{
 "cells": [
  {
   "cell_type": "markdown",
   "source": [
    "# Module 2: Python Basics\n",
    "\n",
    "## Variables, Data Types, and Operators\n",
    "\n",
    "A variable is a named location used to store data in memory. It is helpful to think of variables as containers that hold data that can be changed later in the program. Let's start by creating some variables."
   ],
   "metadata": {
    "collapsed": false
   }
  },
  {
   "cell_type": "code",
   "execution_count": 1,
   "outputs": [
    {
     "name": "stdout",
     "output_type": "stream",
     "text": [
      "10 3.14 Hello, World! True\n"
     ]
    }
   ],
   "source": [
    "x = 10    # integer\n",
    "y = 3.14  # float\n",
    "z = \"Hello, World!\"  # string\n",
    "b = True  # boolean\n",
    "\n",
    "# Display the variables\n",
    "print(x, y, z, b)"
   ],
   "metadata": {
    "collapsed": false
   }
  },
  {
   "cell_type": "markdown",
   "source": [
    "You can perform various operations with these variables, such as addition, subtraction, multiplication, and division for numeric data types, and logical operations for booleans."
   ],
   "metadata": {
    "collapsed": false
   }
  },
  {
   "cell_type": "code",
   "execution_count": 2,
   "outputs": [
    {
     "name": "stdout",
     "output_type": "stream",
     "text": [
      "x + y = 13.14\n",
      "x - y = 6.859999999999999\n",
      "x * y = 31.400000000000002\n",
      "x / y = 3.184713375796178\n",
      "z + z = Hello, World!Hello, World!\n",
      "not b = False\n"
     ]
    }
   ],
   "source": [
    "# Addition\n",
    "print(\"x + y =\", x + y)\n",
    "\n",
    "# Subtraction\n",
    "print(\"x - y =\", x - y)\n",
    "\n",
    "# Multiplication\n",
    "print(\"x * y =\", x * y)\n",
    "\n",
    "# Division\n",
    "print(\"x / y =\", x / y)\n",
    "\n",
    "# String concatenation\n",
    "print(\"z + z =\", z + z)\n",
    "\n",
    "# Logical NOT\n",
    "print(\"not b =\", not b)"
   ],
   "metadata": {
    "collapsed": false
   }
  },
  {
   "cell_type": "markdown",
   "source": [
    "## Basic Input and Output\n",
    "\n",
    "Python provides the `input` function to take user input, and the `print` function to provide output.\n"
   ],
   "metadata": {
    "collapsed": false
   }
  },
  {
   "cell_type": "code",
   "execution_count": 3,
   "outputs": [
    {
     "name": "stdout",
     "output_type": "stream",
     "text": [
      "Hello, Storm Schutte\n"
     ]
    }
   ],
   "source": [
    "name = input(\"What's your name? \")\n",
    "print(\"Hello,\", name)\n"
   ],
   "metadata": {
    "collapsed": false
   }
  },
  {
   "cell_type": "markdown",
   "source": [
    "## Control Structures: If-else statements\n",
    "\n",
    "Control structures allow you to change the flow of the program. The most basic type is the if-else statement.\n"
   ],
   "metadata": {
    "collapsed": false
   }
  },
  {
   "cell_type": "code",
   "execution_count": 4,
   "outputs": [
    {
     "name": "stdout",
     "output_type": "stream",
     "text": [
      "The number is positive.\n"
     ]
    }
   ],
   "source": [
    "number = int(input(\"Enter a number: \"))\n",
    "\n",
    "if number > 0:\n",
    "    print(\"The number is positive.\")\n",
    "elif number < 0:\n",
    "    print(\"The number is negative.\")\n",
    "else:\n",
    "    print(\"The number is zero.\")"
   ],
   "metadata": {
    "collapsed": false
   }
  },
  {
   "cell_type": "code",
   "execution_count": null,
   "outputs": [],
   "source": [],
   "metadata": {
    "collapsed": false
   }
  }
 ],
 "metadata": {
  "kernelspec": {
   "display_name": "Python 3",
   "language": "python",
   "name": "python3"
  },
  "language_info": {
   "codemirror_mode": {
    "name": "ipython",
    "version": 2
   },
   "file_extension": ".py",
   "mimetype": "text/x-python",
   "name": "python",
   "nbconvert_exporter": "python",
   "pygments_lexer": "ipython2",
   "version": "2.7.6"
  }
 },
 "nbformat": 4,
 "nbformat_minor": 0
}

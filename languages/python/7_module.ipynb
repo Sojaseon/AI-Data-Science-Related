{
 "cells": [
  {
   "cell_type": "markdown",
   "source": [
    "# Module 7: Object-Oriented Programming\n",
    "\n",
    "## Classes and Objects\n",
    "\n",
    "A class is a blueprint for creating objects. An object is an instance of a class."
   ],
   "metadata": {
    "collapsed": false
   }
  },
  {
   "cell_type": "code",
   "execution_count": 1,
   "outputs": [
    {
     "name": "stdout",
     "output_type": "stream",
     "text": [
      "Woof!\n"
     ]
    }
   ],
   "source": [
    "class Dog:\n",
    "    def __init__(self, name):\n",
    "        self.name = name\n",
    "\n",
    "    def bark(self):\n",
    "        print(\"Woof!\")\n",
    "\n",
    "fido = Dog(\"Fido\")\n",
    "fido.bark()"
   ],
   "metadata": {
    "collapsed": false
   }
  },
  {
   "cell_type": "markdown",
   "source": [
    "## Inheritance\n",
    "\n",
    "Inheritance allows one class to inherit attributes and methods from another class."
   ],
   "metadata": {
    "collapsed": false
   }
  },
  {
   "cell_type": "code",
   "execution_count": 2,
   "outputs": [
    {
     "name": "stdout",
     "output_type": "stream",
     "text": [
      "Woof!\n",
      "Zzz...\n"
     ]
    }
   ],
   "source": [
    "class Bulldog(Dog):  # Bulldog is a subclass of Dog\n",
    "    def snore(self):\n",
    "        print(\"Zzz...\")\n",
    "\n",
    "bruno = Bulldog(\"Bruno\")\n",
    "bruno.bark()  # This method is inherited from Dog\n",
    "bruno.snore()  # This method is specific to Bulldog"
   ],
   "metadata": {
    "collapsed": false
   }
  },
  {
   "cell_type": "markdown",
   "source": [
    "## Polymorphism\n",
    "\n",
    "Polymorphism allows one interface to be used for a general class of actions."
   ],
   "metadata": {
    "collapsed": false
   }
  },
  {
   "cell_type": "code",
   "execution_count": 3,
   "outputs": [
    {
     "name": "stdout",
     "output_type": "stream",
     "text": [
      "Woof!\n",
      "Woof!\n"
     ]
    }
   ],
   "source": [
    "def pet_dog(dog):\n",
    "    dog.bark()\n",
    "\n",
    "pet_dog(fido)\n",
    "pet_dog(bruno)\n",
    "\n",
    "# Even though fido and bruno are instances of different classes, they can both be passed to the pet_dog function."
   ],
   "metadata": {
    "collapsed": false
   }
  },
  {
   "cell_type": "markdown",
   "source": [
    "## Encapsulation\n",
    "\n",
    "Encapsulation involves hiding the internal details of how an object works."
   ],
   "metadata": {
    "collapsed": false
   }
  },
  {
   "cell_type": "code",
   "execution_count": 6,
   "outputs": [
    {
     "name": "stdout",
     "output_type": "stream",
     "text": [
      "Meow!\n"
     ]
    }
   ],
   "source": [
    "class Cat:\n",
    "    def __init__(self, name):\n",
    "        self.name = name\n",
    "        self.__mood = \"happy\"  # This attribute is private\n",
    "\n",
    "    def meow(self):\n",
    "        if self.__mood == \"happy\":\n",
    "            print(\"Meow!\")\n",
    "        else:\n",
    "            print(\"Hiss!\")\n",
    "\n",
    "mittens = Cat(\"Mittens\")\n",
    "mittens.meow()\n",
    "\n",
    "# The following line would give an error, because we're trying to access a private attribute\n",
    "# print(mittens.__mood)"
   ],
   "metadata": {
    "collapsed": false
   }
  },
  {
   "cell_type": "code",
   "execution_count": null,
   "outputs": [],
   "source": [],
   "metadata": {
    "collapsed": false
   }
  }
 ],
 "metadata": {
  "kernelspec": {
   "display_name": "Python 3",
   "language": "python",
   "name": "python3"
  },
  "language_info": {
   "codemirror_mode": {
    "name": "ipython",
    "version": 2
   },
   "file_extension": ".py",
   "mimetype": "text/x-python",
   "name": "python",
   "nbconvert_exporter": "python",
   "pygments_lexer": "ipython2",
   "version": "2.7.6"
  }
 },
 "nbformat": 4,
 "nbformat_minor": 0
}

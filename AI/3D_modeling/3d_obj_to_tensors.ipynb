{
 "cells": [
  {
   "cell_type": "code",
   "execution_count": null,
   "metadata": {
    "collapsed": true
   },
   "outputs": [],
   "source": [
    "import os\n",
    "import numpy as np\n",
    "import trimesh\n",
    "from skimage.measure import block_reduce\n",
    "import tensorflow as tf\n",
    "from sklearn.model_selection import train_test_split\n",
    "from sklearn.preprocessing import LabelEncoder\n",
    "\n",
    "desired_shape = (16, 16, 16)\n",
    "# desired_shape = (32, 32, 32)\n",
    "desired_voxel_size = 1.00\n",
    "\n",
    "base_dir = 'Big-Data-CNN-3D-object-detection/data'\n",
    "\n",
    "categories = os.listdir(base_dir)\n",
    "\n",
    "label_encoder = LabelEncoder()\n",
    "labels_encoded = label_encoder.fit_transform(categories)\n",
    "\n",
    "# Collect labels during the generation process\n",
    "labels = []\n",
    "\n",
    "def generator():\n",
    "    for label, category in zip(labels_encoded, categories):\n",
    "        category_dir = os.path.join(base_dir, category)\n",
    "        labels.append(label)\n",
    "        for file in os.listdir(category_dir):\n",
    "            if file.endswith('.obj'):\n",
    "                mesh = trimesh.load_mesh(os.path.join(category_dir, file))\n",
    "                if isinstance(mesh, trimesh.Scene):\n",
    "                    mesh = trimesh.util.concatenate(mesh.dump())\n",
    "\n",
    "                voxel_grid = mesh.voxelized(pitch=desired_voxel_size)\n",
    "                voxels = voxel_grid.matrix\n",
    "                if voxels.shape != desired_shape:\n",
    "                    factor = tuple([int(np.ceil(n_i/n_o)) for n_i, n_o in zip(voxels.shape, desired_shape)])\n",
    "                    voxels = block_reduce(voxels, block_size=factor, func=np.max)\n",
    "\n",
    "                # Add padding if necessary\n",
    "                pad_x = max(0, desired_shape[0] - voxels.shape[0])\n",
    "                pad_y = max(0, desired_shape[1] - voxels.shape[1])\n",
    "                pad_z = max(0, desired_shape[2] - voxels.shape[2])\n",
    "\n",
    "                voxels = np.pad(voxels, ((0, pad_x), (0, pad_y), (0, pad_z)), 'constant')\n",
    "\n",
    "                # Truncate if necessary\n",
    "                voxels = voxels[:desired_shape[0], :desired_shape[1], :desired_shape[2]]\n",
    "\n",
    "                voxels = np.expand_dims(voxels, axis=-1)\n",
    "                tensor = tf.convert_to_tensor(voxels)\n",
    "                yield tensor, label\n",
    "    print(\"Finished processing all .obj files.\")\n",
    "\n",
    "# Define the output signatures for the generator function\n",
    "output_signature = (\n",
    "    tf.TensorSpec(shape=(desired_shape[0], desired_shape[1], desired_shape[2], 1), dtype=tf.float32),\n",
    "    tf.TensorSpec(shape=(), dtype=tf.int32)\n",
    ")\n",
    "\n",
    "# Create a tf.data.Dataset from the generator\n",
    "dataset = tf.data.Dataset.from_generator(\n",
    "     generator,\n",
    "     output_signature=output_signature\n",
    ")\n",
    "\n",
    "# Shuffle and batch the dataset\n",
    "# dataset = dataset.shuffle(1000).batch(32)\n",
    "dataset = dataset.shuffle(1000).batch(16)\n",
    "\n",
    "# Split the dataset into training and validation sets\n",
    "train_size = int(0.8 * dataset.cardinality().numpy())\n",
    "val_size = int(0.2 * dataset.cardinality().numpy())\n",
    "\n",
    "train_dataset = dataset.take(train_size)\n",
    "val_dataset = dataset.skip(train_size).take(val_size)\n",
    "\n",
    "# Print out the shapes to check everything is as expected\n",
    "print('Train Dataset element spec:', train_dataset.element_spec)\n",
    "print('Validation Dataset element spec:', val_dataset.element_spec)"
   ]
  },
  {
   "cell_type": "markdown",
   "source": [],
   "metadata": {
    "collapsed": false
   }
  },
  {
   "cell_type": "code",
   "execution_count": null,
   "outputs": [],
   "source": [],
   "metadata": {
    "collapsed": false
   }
  }
 ],
 "metadata": {
  "kernelspec": {
   "display_name": "Python 3",
   "language": "python",
   "name": "python3"
  },
  "language_info": {
   "codemirror_mode": {
    "name": "ipython",
    "version": 2
   },
   "file_extension": ".py",
   "mimetype": "text/x-python",
   "name": "python",
   "nbconvert_exporter": "python",
   "pygments_lexer": "ipython2",
   "version": "2.7.6"
  }
 },
 "nbformat": 4,
 "nbformat_minor": 0
}

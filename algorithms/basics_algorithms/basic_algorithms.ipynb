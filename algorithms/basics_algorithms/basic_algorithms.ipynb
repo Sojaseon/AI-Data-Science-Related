{
 "cells": [
  {
   "cell_type": "markdown",
   "source": [
    "\n",
    "# Searching\n",
    "Searching algorithms are used to find a specific element or value within a collection of data. There are several types of searching algorithms, such as linear search, binary search, and hash-based search.\n",
    "Linear search is a simple searching algorithm that sequentially checks each element in a collection until a match is found or the end of the collection is reached. Binary search, on the other hand, is a more efficient algorithm that works on sorted collections. It repeatedly divides the collection in half and narrows down the search space until the desired element is found. Hash-based search algorithms utilize a hash function to store and retrieve elements from a data structure called a hash table."
   ],
   "metadata": {
    "collapsed": false
   }
  },
  {
   "cell_type": "code",
   "execution_count": 14,
   "metadata": {
    "collapsed": true,
    "ExecuteTime": {
     "end_time": "2023-05-31T02:50:08.297362800Z",
     "start_time": "2023-05-31T02:50:08.103482100Z"
    }
   },
   "outputs": [
    {
     "name": "stdout",
     "output_type": "stream",
     "text": [
      "Target 7 found at index 2\n"
     ]
    }
   ],
   "source": [
    "def linear_search(arr, target):\n",
    "    for i in range(len(arr)):\n",
    "        if arr[i] == target:\n",
    "            return i  # Return the index of the target element if found\n",
    "    return -1  # Return -1 if the target element is not found\n",
    "\n",
    "numbers = [5, 2, 7, 1, 9, 3]\n",
    "target = 7\n",
    "result = linear_search(numbers, target)\n",
    "if result != -1:\n",
    "    print(f\"Target {target} found at index {result}\")\n",
    "else:\n",
    "    print(f\"Target {target} not found\")\n"
   ]
  },
  {
   "cell_type": "markdown",
   "source": [
    "Searching algorithms are used in various applications, such as search engines (e.g., Google), databases, recommendation systems, and information retrieval systems."
   ],
   "metadata": {
    "collapsed": false
   }
  },
  {
   "cell_type": "markdown",
   "source": [
    "# Sorting\n",
    "Sorting algorithms arrange elements in a specific order, typically in ascending or descending order. There are numerous sorting algorithms, including bubble sort, selection sort, insertion sort, merge sort, quicksort, and heapsort, each with its own characteristics in terms of time complexity and efficiency.\n",
    "One example is the bubble sort algorithm, which repeatedly compares adjacent elements and swaps them if they are in the wrong order. This process is repeated until the entire collection is sorted."
   ],
   "metadata": {
    "collapsed": false
   }
  },
  {
   "cell_type": "code",
   "execution_count": 15,
   "outputs": [
    {
     "name": "stdout",
     "output_type": "stream",
     "text": [
      "[1, 2, 3, 5, 7, 9]\n"
     ]
    }
   ],
   "source": [
    "def bubble_sort(arr):\n",
    "    n = len(arr)\n",
    "    for i in range(n):\n",
    "        for j in range(n - i - 1):\n",
    "            if arr[j] > arr[j + 1]:\n",
    "                arr[j], arr[j + 1] = arr[j + 1], arr[j]\n",
    "\n",
    "numbers = [5, 2, 7, 1, 9, 3]\n",
    "bubble_sort(numbers)\n",
    "print(numbers)  # Output: [1, 2, 3, 5, 7, 9]\n"
   ],
   "metadata": {
    "collapsed": false,
    "ExecuteTime": {
     "end_time": "2023-05-31T02:50:08.349359Z",
     "start_time": "2023-05-31T02:50:08.119564500Z"
    }
   }
  },
  {
   "cell_type": "markdown",
   "source": [
    "Sorting algorithms are employed in numerous scenarios, including organizing data in databases, sorting items in e-commerce websites, optimizing search algorithms, and data analysis tasks."
   ],
   "metadata": {
    "collapsed": false
   }
  },
  {
   "cell_type": "markdown",
   "source": [
    "# Recursion\n",
    "Recursion is a programming technique where a function calls itself to solve a problem by breaking it down into smaller subproblems. In a recursive function, the function keeps calling itself with modified inputs until it reaches a base case, which is a condition that allows the function to stop calling itself and return a value.\n",
    "An example of a recursive algorithm is the factorial function, which calculates the factorial of a non-negative integer. The factorial of a number n is the product of all positive integers less than or equal to n."
   ],
   "metadata": {
    "collapsed": false
   }
  },
  {
   "cell_type": "code",
   "execution_count": 16,
   "outputs": [
    {
     "name": "stdout",
     "output_type": "stream",
     "text": [
      "The factorial of 5 is 120\n"
     ]
    }
   ],
   "source": [
    "def factorial(n):\n",
    "    if n == 0:\n",
    "        return 1\n",
    "    else:\n",
    "        return n * factorial(n - 1)\n",
    "\n",
    "# Example usage\n",
    "num = 5\n",
    "result = factorial(num)\n",
    "print(f\"The factorial of {num} is {result}\")  # Output: The factorial of 5 is 120\n"
   ],
   "metadata": {
    "collapsed": false,
    "ExecuteTime": {
     "end_time": "2023-05-31T02:50:08.350360900Z",
     "start_time": "2023-05-31T02:50:08.140924300Z"
    }
   }
  },
  {
   "cell_type": "markdown",
   "source": [
    "Recursion is a fundamental concept used in various fields, such as computer science, mathematics, and artificial intelligence. It is applied in tasks like tree traversal, graph algorithms, backtracking, and solving mathematical problems."
   ],
   "metadata": {
    "collapsed": false
   }
  },
  {
   "cell_type": "markdown",
   "source": [
    "# Divide and conquer\n",
    "Divide and conquer is a problem-solving approach where a problem is divided into smaller subproblems that are solved independently. The solutions to the subproblems are then combined to solve the original problem. This approach is often used in algorithms like merge sort and quicksort.\n",
    "Merge sort is a divide and conquer sorting algorithm that recursively divides the collection into halves until each subarray contains only one element. Then, it merges the sorted subarrays back together to obtain a fully sorted collection. The merge step involves comparing and merging the elements of the subarrays in a way that maintains the desired order."
   ],
   "metadata": {
    "collapsed": false
   }
  },
  {
   "cell_type": "code",
   "execution_count": 17,
   "outputs": [
    {
     "name": "stdout",
     "output_type": "stream",
     "text": [
      "[1, 2, 3, 5, 7, 9]\n"
     ]
    }
   ],
   "source": [
    "def merge_sort(arr):\n",
    "    if len(arr) <= 1:\n",
    "        return arr\n",
    "\n",
    "    mid = len(arr) // 2\n",
    "    left_half = arr[:mid]\n",
    "    right_half = arr[mid:]\n",
    "\n",
    "    left_half = merge_sort(left_half)\n",
    "    right_half = merge_sort(right_half)\n",
    "\n",
    "    return merge(left_half, right_half)\n",
    "\n",
    "def merge(left, right):\n",
    "    result = []\n",
    "    i = 0\n",
    "    j = 0\n",
    "\n",
    "    while i < len(left) and j < len(right):\n",
    "        if left[i] < right[j]:\n",
    "            result.append(left[i])\n",
    "            i += 1\n",
    "        else:\n",
    "            result.append(right[j])\n",
    "            j += 1\n",
    "\n",
    "    while i < len(left):\n",
    "        result.append(left[i])\n",
    "        i += 1\n",
    "\n",
    "    while j < len(right):\n",
    "        result.append(right[j])\n",
    "        j += 1\n",
    "\n",
    "    return result\n",
    "\n",
    "numbers = [5, 2, 7, 1, 9, 3]\n",
    "sorted_numbers = merge_sort(numbers)\n",
    "print(sorted_numbers)  # Output: [1, 2, 3, 5, 7, 9]\n"
   ],
   "metadata": {
    "collapsed": false,
    "ExecuteTime": {
     "end_time": "2023-05-31T02:50:08.350360900Z",
     "start_time": "2023-05-31T02:50:08.159013900Z"
    }
   }
  },
  {
   "cell_type": "markdown",
   "source": [
    "Divide and conquer algorithms find applications in diverse areas, including sorting (e.g., merge sort and quicksort), searching (e.g., binary search), optimization problems, computational geometry, and parallel computing."
   ],
   "metadata": {
    "collapsed": false
   }
  },
  {
   "cell_type": "markdown",
   "source": [
    "# Pattern Searching\n",
    "Pattern searching algorithms are used to find the occurrences of a pattern within a larger text or string. These algorithms help identify specific patterns or substrings and can be employed in tasks such as text processing, data mining, and string matching.\n",
    "An example of a pattern searching algorithm is the Knuth-Morris-Pratt (KMP) algorithm. It utilizes a precomputed pattern array to avoid unnecessary comparisons by taking advantage of the information about the previously matched characters."
   ],
   "metadata": {
    "collapsed": false
   }
  },
  {
   "cell_type": "code",
   "execution_count": 18,
   "outputs": [
    {
     "name": "stdout",
     "output_type": "stream",
     "text": [
      "Pattern found at index 10\n"
     ]
    }
   ],
   "source": [
    "def compute_lps_array(pattern):\n",
    "    m = len(pattern)\n",
    "    lps = [0] * m\n",
    "    length = 0\n",
    "    i = 1\n",
    "\n",
    "    while i < m:\n",
    "        if pattern[i] == pattern[length]:\n",
    "            length += 1\n",
    "            lps[i] = length\n",
    "            i += 1\n",
    "        else:\n",
    "            if length != 0:\n",
    "                length = lps[length - 1]\n",
    "            else:\n",
    "                lps[i] = 0\n",
    "                i += 1\n",
    "\n",
    "    return lps\n",
    "\n",
    "def pattern_search(text, pattern):\n",
    "    n = len(text)\n",
    "    m = len(pattern)\n",
    "    lps = compute_lps_array(pattern)\n",
    "\n",
    "    i = 0\n",
    "    j = 0\n",
    "\n",
    "    while i < n:\n",
    "        if pattern[j] == text[i]:\n",
    "            i += 1\n",
    "            j += 1\n",
    "\n",
    "            if j == m:\n",
    "                print(\"Pattern found at index\", i - j)\n",
    "                j = lps[j - 1]\n",
    "\n",
    "        elif i < n and pattern[j] != text[i]:\n",
    "            if j != 0:\n",
    "                j = lps[j - 1]\n",
    "            else:\n",
    "                i += 1\n",
    "\n",
    "# Example usage\n",
    "text = \"ABABDABACDABABCABAB\"\n",
    "pattern = \"ABABCABAB\"\n",
    "pattern_search(text, pattern)\n"
   ],
   "metadata": {
    "collapsed": false,
    "ExecuteTime": {
     "end_time": "2023-05-31T02:50:08.351359700Z",
     "start_time": "2023-05-31T02:50:08.174518700Z"
    }
   }
  },
  {
   "cell_type": "markdown",
   "source": [
    "Pattern searching algorithms are used in applications like text editors, search engines, data mining, plagiarism detection, and DNA sequence analysis."
   ],
   "metadata": {
    "collapsed": false
   }
  },
  {
   "cell_type": "markdown",
   "source": [
    "# Backtracking\n",
    "Backtracking is an algorithmic technique used to solve problems by incrementally building a solution and then undoing or \"backtracking\" certain steps if they lead to an invalid or incorrect solution. It explores different possibilities and systematically eliminates those that are not feasible.\n",
    "One classic example of a backtracking algorithm is the N-Queens problem. It involves placing N queens on an N×N chessboard in such a way that no two queens threaten each other. Backtracking is employed to explore different configurations until a valid solution is found."
   ],
   "metadata": {
    "collapsed": false
   }
  },
  {
   "cell_type": "code",
   "execution_count": 19,
   "outputs": [],
   "source": [
    "def is_safe(board, row, col):\n",
    "    # Check if there is a queen in the same column\n",
    "    for i in range(row):\n",
    "        if board[i][col] == 1:\n",
    "            return False\n",
    "\n",
    "    # Check if there is a queen in the upper-left diagonal\n",
    "    i = row - 1\n",
    "    j = col - 1\n",
    "    while i >= 0 and j >= 0:\n",
    "        if board[i][j] == 1:\n",
    "            return False\n",
    "        i -= 1\n",
    "        j -= 1\n",
    "\n",
    "    # Check if there is a queen in the upper-right diagonal\n",
    "    i = row - 1\n",
    "    j = col + 1\n",
    "    while i >= 0 and j < len(board):\n",
    "        if board[i][j] == 1:\n",
    "            return False\n",
    "        i -= 1\n",
    "        j += 1\n",
    "\n",
    "    return True\n",
    "\n",
    "def solve_n_queens(board, row):\n",
    "    if row == len(board):\n",
    "        print_board(board)\n",
    "        return\n",
    "\n",
    "    for col in range(len(board)):\n",
    "        if is_safe(board, row, col):\n",
    "            board[row][col] = 1\n",
    "            solve_n_queens(board, row + 1)\n",
    "            board[row][col] = 0\n",
    "\n",
    "def print_board(board):\n",
    "    for row in board:\n",
    "        for col in row:\n",
    "            print(col, end=\" \")\n",
    "        print()"
   ],
   "metadata": {
    "collapsed": false,
    "ExecuteTime": {
     "end_time": "2023-05-31T02:50:08.352364Z",
     "start_time": "2023-05-31T02:50:08.197821400Z"
    }
   }
  },
  {
   "cell_type": "markdown",
   "source": [
    "Backtracking algorithms find applications in solving puzzles, constraint satisfaction problems, generating and searching permutations or combinations, and solving problems with a large search space."
   ],
   "metadata": {
    "collapsed": false
   }
  },
  {
   "cell_type": "markdown",
   "source": [
    "# Greedy\n",
    "Greedy algorithms make locally optimal choices at each step in the hope of finding a global optimum. They aim to find the best solution at each stage without considering the overall effect or considering possible future steps. Greedy algorithms are typically efficient and provide approximate solutions for optimization problems.\n",
    "\n",
    "One example of a greedy algorithm is the activity selection problem. Given a set of activities with their start and finish times, the goal is to select the maximum number of non-overlapping activities. The greedy approach selects the activity with the earliest finish time and recursively selects the next compatible activity.\n"
   ],
   "metadata": {
    "collapsed": false
   }
  },
  {
   "cell_type": "code",
   "execution_count": 20,
   "outputs": [
    {
     "name": "stdout",
     "output_type": "stream",
     "text": [
      "Selected Activities:\n",
      "(1, 2)\n",
      "(3, 4)\n",
      "(5, 7)\n",
      "(8, 9)\n"
     ]
    }
   ],
   "source": [
    "def activity_selection(start_time, finish_time):\n",
    "    n = len(start_time)\n",
    "    activities = []\n",
    "\n",
    "    # Sort activities based on finish time\n",
    "    sorted_activities = sorted(zip(start_time, finish_time), key=lambda x: x[1])\n",
    "\n",
    "    # Select the first activity\n",
    "    activities.append(sorted_activities[0])\n",
    "    prev_finish_time = sorted_activities[0][1]\n",
    "\n",
    "    # Select subsequent activities\n",
    "    for i in range(1, n):\n",
    "        if sorted_activities[i][0] >= prev_finish_time:\n",
    "            activities.append(sorted_activities[i])\n",
    "            prev_finish_time = sorted_activities[i][1]\n",
    "\n",
    "    return activities\n",
    "\n",
    "start_time = [1, 3, 0, 5, 8, 5]\n",
    "finish_time = [2, 4, 6, 7, 9, 9]\n",
    "selected_activities = activity_selection(start_time, finish_time)\n",
    "\n",
    "print(\"Selected Activities:\")\n",
    "for activity in selected_activities:\n",
    "    print(activity)"
   ],
   "metadata": {
    "collapsed": false,
    "ExecuteTime": {
     "end_time": "2023-05-31T02:50:08.353361600Z",
     "start_time": "2023-05-31T02:50:08.216341400Z"
    }
   }
  },
  {
   "cell_type": "markdown",
   "source": [
    "Greedy algorithms are utilized in a variety of optimization problems, such as scheduling tasks, network routing, data compression, minimum spanning tree, and coin change problems. They are also used in approximation algorithms where finding an exact solution is computationally expensive or impractical."
   ],
   "metadata": {
    "collapsed": false
   }
  },
  {
   "cell_type": "markdown",
   "source": [
    "# Bitwise Operations\n",
    "Bitwise operations manipulate individual bits of binary representations of numbers. These operations are performed at the bit level and are often used in low-level programming, embedded systems, and optimizing code execution.\n",
    "An example of a bitwise operation is the bitwise AND (&) operator, which compares the corresponding bits of two numbers and returns a new number where each bit is set to 1 only if both corresponding bits are 1."
   ],
   "metadata": {
    "collapsed": false
   }
  },
  {
   "cell_type": "code",
   "execution_count": 21,
   "outputs": [
    {
     "name": "stdout",
     "output_type": "stream",
     "text": [
      "1\n"
     ]
    }
   ],
   "source": [
    "num1 = 5  # 101 in binary\n",
    "num2 = 3  # 011 in binary\n",
    "\n",
    "result = num1 & num2\n",
    "print(result)  # Output: 1 (001 in binary)\n"
   ],
   "metadata": {
    "collapsed": false,
    "ExecuteTime": {
     "end_time": "2023-05-31T02:50:08.353361600Z",
     "start_time": "2023-05-31T02:50:08.235701800Z"
    }
   }
  },
  {
   "cell_type": "markdown",
   "source": [
    "Bitwise operations are utilized in low-level programming, network protocols, image processing, encryption algorithms, and embedded systems where manipulation of individual bits is required."
   ],
   "metadata": {
    "collapsed": false
   }
  },
  {
   "cell_type": "markdown",
   "source": [
    "# Mathematical Algorithms\n",
    "Mathematical algorithms solve problems related to mathematical computations, calculations, or properties. These algorithms can be used in various domains, such as cryptography, numerical analysis, optimization, and geometry.\n",
    "One example of a mathematical algorithm is the Euclidean algorithm, which finds the greatest common divisor (GCD) of two numbers. The GCD is the largest positive integer that divides both numbers without leaving a remainder."
   ],
   "metadata": {
    "collapsed": false
   }
  },
  {
   "cell_type": "code",
   "execution_count": 22,
   "outputs": [
    {
     "name": "stdout",
     "output_type": "stream",
     "text": [
      "12\n"
     ]
    }
   ],
   "source": [
    "def euclidean_algorithm(a, b):\n",
    "    while b != 0:\n",
    "        remainder = a % b\n",
    "        a = b\n",
    "        b = remainder\n",
    "    return a\n",
    "\n",
    "# Example usage\n",
    "num1 = 48\n",
    "num2 = 36\n",
    "gcd = euclidean_algorithm(num1, num2)\n",
    "print(gcd)  # Output: 12\n"
   ],
   "metadata": {
    "collapsed": false,
    "ExecuteTime": {
     "end_time": "2023-05-31T02:50:08.354359100Z",
     "start_time": "2023-05-31T02:50:08.257330800Z"
    }
   }
  },
  {
   "cell_type": "markdown",
   "source": [
    "Mathematical algorithms find applications in diverse fields, including cryptography, computer graphics, numerical analysis, optimization problems, statistics, and financial modeling."
   ],
   "metadata": {
    "collapsed": false
   }
  },
  {
   "cell_type": "markdown",
   "source": [
    "# Dynamic Programming\n",
    "Dynamic programming is a technique used to solve complex problems by breaking them down into smaller overlapping subproblems. It stores the solutions to subproblems in a table or memoization array to avoid redundant computations and optimizes the overall problem solution.\n",
    "One classic example of dynamic programming is the Fibonacci sequence. The Fibonacci numbers are calculated using the recursive formula F(n) = F(n-1) + F(n-2), where F(0) = 0 and F(1) = 1. Dynamic programming can be applied to efficiently calculate Fibonacci numbers by storing the results of already computed subproblems."
   ],
   "metadata": {
    "collapsed": false
   }
  },
  {
   "cell_type": "code",
   "execution_count": 23,
   "outputs": [
    {
     "name": "stdout",
     "output_type": "stream",
     "text": [
      "8\n"
     ]
    }
   ],
   "source": [
    "def fibonacci(n):\n",
    "    fib = [0, 1]\n",
    "\n",
    "    for i in range(2, n + 1):\n",
    "        fib.append(fib[i - 1] + fib[i - 2])\n",
    "\n",
    "    return fib[n]\n",
    "\n",
    "# Example usage\n",
    "num = 6\n",
    "fib_num = fibonacci(num)\n",
    "print(fib_num)  # Output: 8\n"
   ],
   "metadata": {
    "collapsed": false,
    "ExecuteTime": {
     "end_time": "2023-05-31T02:50:08.354359100Z",
     "start_time": "2023-05-31T02:50:08.278176700Z"
    }
   }
  },
  {
   "cell_type": "markdown",
   "source": [
    "Dynamic programming is applied to various problems that exhibit optimal substructure and overlapping subproblems, such as optimization problems, sequence alignment, shortest path algorithms, knapsack problems, and parsing algorithms."
   ],
   "metadata": {
    "collapsed": false
   }
  }
 ],
 "metadata": {
  "kernelspec": {
   "display_name": "Python 3",
   "language": "python",
   "name": "python3"
  },
  "language_info": {
   "codemirror_mode": {
    "name": "ipython",
    "version": 2
   },
   "file_extension": ".py",
   "mimetype": "text/x-python",
   "name": "python",
   "nbconvert_exporter": "python",
   "pygments_lexer": "ipython2",
   "version": "2.7.6"
  }
 },
 "nbformat": 4,
 "nbformat_minor": 0
}

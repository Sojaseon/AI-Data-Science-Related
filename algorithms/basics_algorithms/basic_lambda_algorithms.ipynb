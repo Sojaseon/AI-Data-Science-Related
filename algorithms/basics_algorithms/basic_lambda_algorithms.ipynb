{
 "cells": [
  {
   "cell_type": "markdown",
   "source": [
    "# Sorting a List by Absolute Value"
   ],
   "metadata": {
    "collapsed": false
   }
  },
  {
   "cell_type": "code",
   "execution_count": 1,
   "metadata": {
    "collapsed": true,
    "ExecuteTime": {
     "end_time": "2023-05-31T03:00:19.674078700Z",
     "start_time": "2023-05-31T03:00:19.648732300Z"
    }
   },
   "outputs": [],
   "source": [
    "a = [-1, -4, 5, 2, -3]\n",
    "sorted_a = sorted(a, key=lambda x: abs(x))\n"
   ]
  },
  {
   "cell_type": "markdown",
   "source": [
    "# Filtering Odd Numbers in a List"
   ],
   "metadata": {
    "collapsed": false
   }
  },
  {
   "cell_type": "code",
   "execution_count": 2,
   "outputs": [],
   "source": [
    "numbers = [1, 2, 3, 4, 5]\n",
    "odd_numbers = list(filter(lambda x: x % 2, numbers))\n"
   ],
   "metadata": {
    "collapsed": false,
    "ExecuteTime": {
     "end_time": "2023-05-31T03:00:19.689567900Z",
     "start_time": "2023-05-31T03:00:19.653880Z"
    }
   }
  },
  {
   "cell_type": "markdown",
   "source": [
    "# Squaring all Elements in a List"
   ],
   "metadata": {
    "collapsed": false
   }
  },
  {
   "cell_type": "code",
   "execution_count": 3,
   "outputs": [],
   "source": [
    "numbers = [1, 2, 3, 4, 5]\n",
    "squares = list(map(lambda x: x ** 2, numbers))\n"
   ],
   "metadata": {
    "collapsed": false,
    "ExecuteTime": {
     "end_time": "2023-05-31T03:00:19.704946700Z",
     "start_time": "2023-05-31T03:00:19.680727600Z"
    }
   }
  },
  {
   "cell_type": "markdown",
   "source": [
    "# Reducing a List to a Single Value"
   ],
   "metadata": {
    "collapsed": false
   }
  },
  {
   "cell_type": "code",
   "execution_count": 4,
   "outputs": [],
   "source": [
    "from functools import reduce\n",
    "\n",
    "numbers = [1, 2, 3, 4, 5]\n",
    "product = reduce(lambda x, y: x * y, numbers)\n"
   ],
   "metadata": {
    "collapsed": false,
    "ExecuteTime": {
     "end_time": "2023-05-31T03:00:19.704946700Z",
     "start_time": "2023-05-31T03:00:19.683638500Z"
    }
   }
  },
  {
   "cell_type": "markdown",
   "source": [
    "# Sorting a List of Dictionaries by a Common Key"
   ],
   "metadata": {
    "collapsed": false
   }
  },
  {
   "cell_type": "code",
   "execution_count": 5,
   "outputs": [],
   "source": [
    "data = [{\"name\": \"John\", \"age\": 20}, {\"name\": \"Doe\", \"age\": 30}, {\"name\": \"Alice\", \"age\": 25}]\n",
    "sorted_data = sorted(data, key=lambda x: x['age'])\n"
   ],
   "metadata": {
    "collapsed": false,
    "ExecuteTime": {
     "end_time": "2023-05-31T03:00:19.704946700Z",
     "start_time": "2023-05-31T03:00:19.689567900Z"
    }
   }
  },
  {
   "cell_type": "markdown",
   "source": [
    "# Creating a Function Generator"
   ],
   "metadata": {
    "collapsed": false
   }
  },
  {
   "cell_type": "code",
   "execution_count": 6,
   "outputs": [],
   "source": [
    "def generate_function(n):\n",
    "    return lambda x: x ** n\n",
    "square = generate_function(2)\n",
    "cube = generate_function(3)\n"
   ],
   "metadata": {
    "collapsed": false,
    "ExecuteTime": {
     "end_time": "2023-05-31T03:00:19.724424800Z",
     "start_time": "2023-05-31T03:00:19.704946700Z"
    }
   }
  },
  {
   "cell_type": "markdown",
   "source": [
    "# Grouping a List of Tuples by the First Element"
   ],
   "metadata": {
    "collapsed": false
   }
  },
  {
   "cell_type": "code",
   "execution_count": 7,
   "outputs": [],
   "source": [
    "from itertools import groupby\n",
    "\n",
    "data = [(1, \"a\"), (2, \"b\"), (1, \"c\"), (2, \"d\"), (1, \"e\")]\n",
    "grouped_data = {k: list(v) for k, v in groupby(sorted(data), key=lambda x: x[0])}\n"
   ],
   "metadata": {
    "collapsed": false,
    "ExecuteTime": {
     "end_time": "2023-05-31T03:00:19.725425Z",
     "start_time": "2023-05-31T03:00:19.705950200Z"
    }
   }
  },
  {
   "cell_type": "markdown",
   "source": [
    "# Checking If All Elements in a List are True"
   ],
   "metadata": {
    "collapsed": false
   }
  },
  {
   "cell_type": "code",
   "execution_count": 8,
   "outputs": [],
   "source": [
    "values = [True, True, False, True]\n",
    "all_true = all(map(lambda x: x, values))\n"
   ],
   "metadata": {
    "collapsed": false,
    "ExecuteTime": {
     "end_time": "2023-05-31T03:00:19.725425Z",
     "start_time": "2023-05-31T03:00:19.705950200Z"
    }
   }
  },
  {
   "cell_type": "markdown",
   "source": [
    "# Calculating Factorial of a Number"
   ],
   "metadata": {
    "collapsed": false
   }
  },
  {
   "cell_type": "code",
   "execution_count": 9,
   "outputs": [],
   "source": [
    "from functools import reduce\n",
    "\n",
    "def factorial(n):\n",
    "    return reduce(lambda x, y: x * y, range(1, n + 1))\n"
   ],
   "metadata": {
    "collapsed": false,
    "ExecuteTime": {
     "end_time": "2023-05-31T03:00:19.725425Z",
     "start_time": "2023-05-31T03:00:19.705950200Z"
    }
   }
  },
  {
   "cell_type": "markdown",
   "source": [
    "# Generating Fibonacci Series"
   ],
   "metadata": {
    "collapsed": false
   }
  },
  {
   "cell_type": "code",
   "execution_count": 10,
   "outputs": [],
   "source": [
    "from functools import reduce\n",
    "\n",
    "def fibonacci(n):\n",
    "    fib_series = reduce(lambda x, _: x + [x[-2] + x[-1]], [0] * (n - 2), [0, 1])\n",
    "    return fib_series\n"
   ],
   "metadata": {
    "collapsed": false,
    "ExecuteTime": {
     "end_time": "2023-05-31T03:00:19.725425Z",
     "start_time": "2023-05-31T03:00:19.712423Z"
    }
   }
  },
  {
   "cell_type": "markdown",
   "source": [],
   "metadata": {
    "collapsed": false
   }
  }
 ],
 "metadata": {
  "kernelspec": {
   "display_name": "Python 3",
   "language": "python",
   "name": "python3"
  },
  "language_info": {
   "codemirror_mode": {
    "name": "ipython",
    "version": 2
   },
   "file_extension": ".py",
   "mimetype": "text/x-python",
   "name": "python",
   "nbconvert_exporter": "python",
   "pygments_lexer": "ipython2",
   "version": "2.7.6"
  }
 },
 "nbformat": 4,
 "nbformat_minor": 0
}

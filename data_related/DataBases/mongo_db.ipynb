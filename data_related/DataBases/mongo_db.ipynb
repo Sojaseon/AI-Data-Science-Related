{
 "cells": [
  {
   "cell_type": "markdown",
   "source": [
    "# Mongo DB"
   ],
   "metadata": {
    "collapsed": false
   }
  },
  {
   "cell_type": "code",
   "execution_count": 1,
   "outputs": [
    {
     "name": "stdout",
     "output_type": "stream",
     "text": [
      "Collecting pymongo\n",
      "  Downloading pymongo-4.3.3-cp311-cp311-win_amd64.whl (382 kB)\n",
      "                                              0.0/382.5 kB ? eta -:--:--\n",
      "     ------------------------------------- 382.5/382.5 kB 24.8 MB/s eta 0:00:00\n",
      "Collecting dnspython<3.0.0,>=1.16.0 (from pymongo)\n",
      "  Downloading dnspython-2.3.0-py3-none-any.whl (283 kB)\n",
      "                                              0.0/283.7 kB ? eta -:--:--\n",
      "     ------------------------------------- 283.7/283.7 kB 17.1 MB/s eta 0:00:00\n",
      "Installing collected packages: dnspython, pymongo\n",
      "Successfully installed dnspython-2.3.0 pymongo-4.3.3\n"
     ]
    },
    {
     "name": "stderr",
     "output_type": "stream",
     "text": [
      "\n",
      "[notice] A new release of pip is available: 23.1.1 -> 23.1.2\n",
      "[notice] To update, run: python.exe -m pip install --upgrade pip\n"
     ]
    }
   ],
   "source": [
    "!pip install pymongo\n",
    "from pymongo import collection"
   ],
   "metadata": {
    "collapsed": false
   }
  },
  {
   "cell_type": "markdown",
   "source": [
    "## Query with conditions\n",
    "We can retrieve documents that match certain conditions:"
   ],
   "metadata": {
    "collapsed": false
   }
  },
  {
   "cell_type": "code",
   "execution_count": null,
   "metadata": {
    "collapsed": true
   },
   "outputs": [],
   "source": [
    "# Find documents where 'age' is greater than 30\n",
    "query = {\"age\": {\"$gt\": 30}}\n",
    "docs = collection.find(query)\n",
    "for doc in docs:\n",
    "    print(doc)"
   ]
  },
  {
   "cell_type": "markdown",
   "source": [
    "## Sorting results\n",
    "We can also sort the results of our queries:"
   ],
   "metadata": {
    "collapsed": false
   }
  },
  {
   "cell_type": "code",
   "execution_count": null,
   "outputs": [],
   "source": [
    "# Sort documents by 'age' in descending order\n",
    "docs = collection.find().sort(\"age\", -1)\n",
    "for doc in docs:\n",
    "    print(doc)"
   ],
   "metadata": {
    "collapsed": false
   }
  },
  {
   "cell_type": "markdown",
   "source": [
    "## Limiting results\n",
    "If we only want a specific number of results:"
   ],
   "metadata": {
    "collapsed": false
   }
  },
  {
   "cell_type": "code",
   "execution_count": null,
   "outputs": [],
   "source": [
    "# Get the first 5 documents\n",
    "docs = collection.find().limit(5)\n",
    "for doc in docs:\n",
    "    print(doc)"
   ],
   "metadata": {
    "collapsed": false
   }
  },
  {
   "cell_type": "markdown",
   "source": [
    "## Counting documents\n",
    "We can count the number of documents that match a certain condition:"
   ],
   "metadata": {
    "collapsed": false
   }
  },
  {
   "cell_type": "code",
   "execution_count": null,
   "outputs": [],
   "source": [
    "# Count the number of documents where 'age' is greater than 30\n",
    "count = collection.count_documents({\"age\": {\"$gt\": 30}})\n",
    "print(count)"
   ],
   "metadata": {
    "collapsed": false
   }
  },
  {
   "cell_type": "markdown",
   "source": [
    "## Indexing\n",
    "To optimize queries, we can create indexes:"
   ],
   "metadata": {
    "collapsed": false
   }
  },
  {
   "cell_type": "code",
   "execution_count": null,
   "outputs": [],
   "source": [
    "# Create an index on the 'age' field\n",
    "collection.create_index(\"age\")"
   ],
   "metadata": {
    "collapsed": false
   }
  },
  {
   "cell_type": "markdown",
   "source": [
    "## Aggregation\n",
    "MongoDB also supports complex aggregations:"
   ],
   "metadata": {
    "collapsed": false
   }
  },
  {
   "cell_type": "code",
   "execution_count": null,
   "outputs": [],
   "source": [
    "# Group documents by 'city' and get the average age in each city\n",
    "pipeline = [\n",
    "    {\"$group\": {\"_id\": \"$city\", \"average_age\": {\"$avg\": \"$age\"}}}\n",
    "]\n",
    "results = collection.aggregate(pipeline)\n",
    "for result in results:\n",
    "    print(result)"
   ],
   "metadata": {
    "collapsed": false
   }
  },
  {
   "cell_type": "markdown",
   "source": [
    "## Error Handling\n",
    "We can add some error handling to our database interactions to make our code more robust:"
   ],
   "metadata": {
    "collapsed": false
   }
  },
  {
   "cell_type": "code",
   "execution_count": null,
   "outputs": [],
   "source": [
    "from pymongo.errors import ConnectionFailure\n",
    "\n",
    "try:\n",
    "    # Try to establish a connection\n",
    "    client = MongoClient('mongodb://localhost:27017/')\n",
    "    client.admin.command('ismaster')\n",
    "except ConnectionFailure:\n",
    "    print(\"Server not available\")"
   ],
   "metadata": {
    "collapsed": false
   }
  },
  {
   "cell_type": "markdown",
   "source": [
    "Close the connection when you're done:"
   ],
   "metadata": {
    "collapsed": false
   }
  },
  {
   "cell_type": "code",
   "execution_count": null,
   "outputs": [],
   "source": [
    "# Close the connection\n",
    "client.close()"
   ],
   "metadata": {
    "collapsed": false
   }
  },
  {
   "cell_type": "markdown",
   "source": [
    "MongoEngine is a Document-Object Mapper (think ORM, but for document databases) for working with MongoDB from Python. It uses a simple declarative API, similar to the Django ORM.\n",
    "\n",
    "This is a basic overview of how you can use MongoEngine to interact with MongoDB in a Pythonic and ORM-like way. Remember that MongoDB is a document database and lacks some features of relational databases, but MongoEngine does a good job abstracting the MongoDB operations in an easy-to-use API."
   ],
   "metadata": {
    "collapsed": false
   }
  },
  {
   "cell_type": "code",
   "execution_count": null,
   "outputs": [],
   "source": [
    "!pip install mongoengine"
   ],
   "metadata": {
    "collapsed": false
   }
  },
  {
   "cell_type": "markdown",
   "source": [
    "## Connecting to MongoDB\n",
    "Next, you'll need to connect to your MongoDB database:"
   ],
   "metadata": {
    "collapsed": false
   }
  },
  {
   "cell_type": "code",
   "execution_count": null,
   "outputs": [],
   "source": [
    "from mongoengine import connect\n",
    "\n",
    "connect('mydatabase', host='localhost', port=27017)"
   ],
   "metadata": {
    "collapsed": false
   }
  },
  {
   "cell_type": "markdown",
   "source": [
    "## Defining a Document Schema\n",
    "Now, you can define a schema for your documents. In MongoEngine, these are defined as classes that subclass mongoengine.Document:"
   ],
   "metadata": {
    "collapsed": false
   }
  },
  {
   "cell_type": "code",
   "execution_count": null,
   "outputs": [],
   "source": [
    "from mongoengine import Document, StringField, IntField\n",
    "\n",
    "class User(Document):\n",
    "    name = StringField(required=True, max_length=200)\n",
    "    age = IntField(required=True)\n"
   ],
   "metadata": {
    "collapsed": false
   }
  },
  {
   "cell_type": "markdown",
   "source": [
    "## Inserting Documents\n",
    "To insert a document, you create an instance of your Document subclass and call .save() on it:"
   ],
   "metadata": {
    "collapsed": false
   }
  },
  {
   "cell_type": "code",
   "execution_count": null,
   "outputs": [],
   "source": [
    "user = User(name='John', age=30)\n",
    "user.save()"
   ],
   "metadata": {
    "collapsed": false
   }
  },
  {
   "cell_type": "markdown",
   "source": [
    "## Querying for Documents\n",
    "Querying is also straightforward:"
   ],
   "metadata": {
    "collapsed": false
   }
  },
  {
   "cell_type": "code",
   "execution_count": null,
   "outputs": [],
   "source": [
    "# Find all users\n",
    "users = User.objects()\n",
    "for user in users:\n",
    "    print(user.name, user.age)\n",
    "\n",
    "# Find all users older than 20\n",
    "users = User.objects(age__gt=20)\n",
    "for user in users:\n",
    "    print(user.name, user.age)\n"
   ],
   "metadata": {
    "collapsed": false
   }
  },
  {
   "cell_type": "markdown",
   "source": [
    "## Updating Documents\n",
    "Updating a document can be achieved as follows:"
   ],
   "metadata": {
    "collapsed": false
   }
  },
  {
   "cell_type": "code",
   "execution_count": null,
   "outputs": [],
   "source": [
    "# Updating a single document\n",
    "user = User.objects(name='John').first()\n",
    "user.age = 31\n",
    "user.save()\n",
    "\n",
    "# Updating multiple documents\n",
    "User.objects(age__lt=30).update(set__age=30)\n"
   ],
   "metadata": {
    "collapsed": false
   }
  },
  {
   "cell_type": "markdown",
   "source": [
    "## Deleting Documents\n",
    "And finally, to delete documents:"
   ],
   "metadata": {
    "collapsed": false
   }
  },
  {
   "cell_type": "code",
   "execution_count": null,
   "outputs": [],
   "source": [
    "# Deleting a single document\n",
    "user = User.objects(name='John').first()\n",
    "user.delete()\n",
    "\n",
    "# Deleting multiple documents\n",
    "User.objects(age__lt=30).delete()\n"
   ],
   "metadata": {
    "collapsed": false
   }
  },
  {
   "cell_type": "markdown",
   "source": [],
   "metadata": {
    "collapsed": false
   }
  },
  {
   "cell_type": "markdown",
   "source": [
    "## Blog Example"
   ],
   "metadata": {
    "collapsed": false
   }
  },
  {
   "cell_type": "code",
   "execution_count": null,
   "outputs": [],
   "source": [
    "from mongoengine import Document, EmbeddedDocument, StringField, ReferenceField, ListField, DateTimeField, IntField\n",
    "from datetime import datetime\n",
    "\n",
    "class User(Document):\n",
    "    name = StringField(required=True, max_length=200)\n",
    "    age = IntField(required=True)\n",
    "\n",
    "class Comment(EmbeddedDocument):\n",
    "    content = StringField()\n",
    "    author = ReferenceField(User)\n",
    "    posted_at = DateTimeField(default=datetime.utcnow)\n",
    "\n",
    "class Post(Document):\n",
    "    title = StringField(max_length=120, required=True)\n",
    "    author = ReferenceField(User)\n",
    "    posted_at = DateTimeField(default=datetime.utcnow)\n",
    "    comments = ListField(EmbeddedDocumentField(Comment))\n"
   ],
   "metadata": {
    "collapsed": false
   }
  },
  {
   "cell_type": "markdown",
   "source": [
    "In this example, a User is a document that has a name and age. A Comment is an embedded document — it doesn't exist on its own, but is always part of a Post. The Comment has a reference to the User who authored it, stored as a MongoDB ObjectId. A Post has a list of Comment embedded documents.\n",
    "\n",
    "Now, let's create a user, a post, and add a comment to the post:"
   ],
   "metadata": {
    "collapsed": false
   }
  },
  {
   "cell_type": "code",
   "execution_count": null,
   "outputs": [],
   "source": [
    "# Create a new user\n",
    "user = User(name='John', age=30)\n",
    "user.save()\n",
    "\n",
    "# Create a new post\n",
    "post = Post(title='My First Post', author=user)\n",
    "post.save()\n",
    "\n",
    "# Create a new comment and add it to the post\n",
    "comment = Comment(content='Nice post!', author=user)\n",
    "post.comments.append(comment)\n",
    "post.save()\n"
   ],
   "metadata": {
    "collapsed": false
   }
  },
  {
   "cell_type": "markdown",
   "source": [
    "Now, let's query for the post and print out the comments:"
   ],
   "metadata": {
    "collapsed": false
   }
  },
  {
   "cell_type": "code",
   "execution_count": null,
   "outputs": [],
   "source": [
    "# Get the first post\n",
    "post = Post.objects.first()\n",
    "\n",
    "# Print post details\n",
    "print(f'Post: {post.title}, Author: {post.author.name}, Posted at: {post.posted_at}')\n",
    "\n",
    "# Print all comments\n",
    "for comment in post.comments:\n",
    "    print(f'Comment: {comment.content}, Author: {comment.author.name}, Posted at: {comment.posted_at}')\n"
   ],
   "metadata": {
    "collapsed": false
   }
  }
 ],
 "metadata": {
  "kernelspec": {
   "display_name": "Python 3",
   "language": "python",
   "name": "python3"
  },
  "language_info": {
   "codemirror_mode": {
    "name": "ipython",
    "version": 2
   },
   "file_extension": ".py",
   "mimetype": "text/x-python",
   "name": "python",
   "nbconvert_exporter": "python",
   "pygments_lexer": "ipython2",
   "version": "2.7.6"
  }
 },
 "nbformat": 4,
 "nbformat_minor": 0
}

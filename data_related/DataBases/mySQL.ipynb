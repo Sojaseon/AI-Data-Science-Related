{
 "cells": [
  {
   "cell_type": "markdown",
   "source": [
    "# MySQL"
   ],
   "metadata": {
    "collapsed": false
   }
  },
  {
   "cell_type": "markdown",
   "source": [
    "Here is how you would interact with MySQL using Python and the PyMySQL package. This example will showcase the same concepts as the MongoDB example: setting up a connection, querying with conditions, sorting, limiting, counting, indexing, aggregating, error handling, and closing the connection."
   ],
   "metadata": {
    "collapsed": false
   }
  },
  {
   "cell_type": "code",
   "execution_count": null,
   "metadata": {
    "collapsed": true
   },
   "outputs": [],
   "source": [
    "!pip install PyMySQL"
   ]
  },
  {
   "cell_type": "markdown",
   "source": [
    "To connect to a MySQL database:"
   ],
   "metadata": {
    "collapsed": false
   }
  },
  {
   "cell_type": "code",
   "execution_count": null,
   "outputs": [],
   "source": [
    "import pymysql.cursors\n",
    "\n",
    "# Establish a connection to the MySQL server\n",
    "try:\n",
    "    connection = pymysql.connect(host='localhost',\n",
    "                                 user='user',\n",
    "                                 password='passwd',\n",
    "                                 db='mydb',\n",
    "                                 charset='utf8mb4',\n",
    "                                 cursorclass=pymysql.cursors.DictCursor)\n",
    "    print(\"Connected successfully!\")\n",
    "except:\n",
    "    print(\"Connection failed!\")"
   ],
   "metadata": {
    "collapsed": false
   }
  },
  {
   "cell_type": "markdown",
   "source": [
    "To query with conditions:"
   ],
   "metadata": {
    "collapsed": false
   }
  },
  {
   "cell_type": "code",
   "execution_count": null,
   "outputs": [],
   "source": [
    "with connection.cursor() as cursor:\n",
    "    # Find users where 'age' is greater than 30\n",
    "    sql = \"SELECT * FROM `users` WHERE `age` > %s\"\n",
    "    cursor.execute(sql, (30,))\n",
    "    results = cursor.fetchall()\n",
    "    for result in results:\n",
    "        print(result)"
   ],
   "metadata": {
    "collapsed": false
   }
  },
  {
   "cell_type": "markdown",
   "source": [
    "Sorting results:"
   ],
   "metadata": {
    "collapsed": false
   }
  },
  {
   "cell_type": "code",
   "execution_count": null,
   "outputs": [],
   "source": [
    "with connection.cursor() as cursor:\n",
    "    # Sort users by 'age' in descending order\n",
    "    sql = \"SELECT * FROM `users` ORDER BY `age` DESC\"\n",
    "    cursor.execute(sql)\n",
    "    results = cursor.fetchall()\n",
    "    for result in results:\n",
    "        print(result)"
   ],
   "metadata": {
    "collapsed": false
   }
  },
  {
   "cell_type": "markdown",
   "source": [
    "Limiting results:"
   ],
   "metadata": {
    "collapsed": false
   }
  },
  {
   "cell_type": "code",
   "execution_count": null,
   "outputs": [],
   "source": [
    "with connection.cursor() as cursor:\n",
    "    # Get the first 5 users\n",
    "    sql = \"SELECT * FROM `users` LIMIT 5\"\n",
    "    cursor.execute(sql)\n",
    "    results = cursor.fetchall()\n",
    "    for result in results:\n",
    "        print(result)"
   ],
   "metadata": {
    "collapsed": false
   }
  },
  {
   "cell_type": "markdown",
   "source": [
    "Counting documents:"
   ],
   "metadata": {
    "collapsed": false
   }
  },
  {
   "cell_type": "code",
   "execution_count": null,
   "outputs": [],
   "source": [
    "with connection.cursor() as cursor:\n",
    "    # Count the number of users where 'age' is greater than 30\n",
    "    sql = \"SELECT COUNT(*) FROM `users` WHERE `age` > %s\"\n",
    "    cursor.execute(sql, (30,))\n",
    "    count = cursor.fetchone()\n",
    "    print(count)"
   ],
   "metadata": {
    "collapsed": false
   }
  },
  {
   "cell_type": "markdown",
   "source": [
    "Creating an index:"
   ],
   "metadata": {
    "collapsed": false
   }
  },
  {
   "cell_type": "code",
   "execution_count": null,
   "outputs": [],
   "source": [
    "with connection.cursor() as cursor:\n",
    "    # Create an index on the 'age' field\n",
    "    sql = \"CREATE INDEX age_index ON `users`(`age`)\"\n",
    "    cursor.execute(sql)\n",
    "    connection.commit()"
   ],
   "metadata": {
    "collapsed": false
   }
  },
  {
   "cell_type": "markdown",
   "source": [
    "Aggregation:"
   ],
   "metadata": {
    "collapsed": false
   }
  },
  {
   "cell_type": "code",
   "execution_count": null,
   "outputs": [],
   "source": [
    "with connection.cursor() as cursor:\n",
    "    # Group users by 'city' and get the average age in each city\n",
    "    sql = \"SELECT `city`, AVG(`age`) as average_age FROM `users` GROUP BY `city`\"\n",
    "    cursor.execute(sql)\n",
    "    results = cursor.fetchall()\n",
    "    for result in results:\n",
    "        print(result)"
   ],
   "metadata": {
    "collapsed": false
   }
  },
  {
   "cell_type": "markdown",
   "source": [
    "Error Handling:"
   ],
   "metadata": {
    "collapsed": false
   }
  },
  {
   "cell_type": "code",
   "execution_count": null,
   "outputs": [],
   "source": [
    "from pymysql.err import OperationalError\n",
    "\n",
    "try:\n",
    "    # Try to establish a connection\n",
    "    connection = pymysql.connect(host='localhost',\n",
    "                                 user='user',\n",
    "                                 password='passwd',\n",
    "                                 db='mydb',\n",
    "                                 charset='utf8mb4',\n",
    "                                 cursorclass=pymysql.cursors.DictCursor)\n",
    "    print(\"Connected successfully!\")\n",
    "except OperationalError:\n",
    "    print(\"Server not available\")"
   ],
   "metadata": {
    "collapsed": false
   }
  },
  {
   "cell_type": "markdown",
   "source": [
    "Finally, you close the connection:"
   ],
   "metadata": {
    "collapsed": false
   }
  },
  {
   "cell_type": "code",
   "execution_count": null,
   "outputs": [],
   "source": [
    "connection.close()"
   ],
   "metadata": {
    "collapsed": false
   }
  },
  {
   "cell_type": "markdown",
   "source": [
    "# An Example Database ORM like style"
   ],
   "metadata": {
    "collapsed": false
   }
  },
  {
   "cell_type": "code",
   "execution_count": null,
   "outputs": [],
   "source": [
    "class Blog:\n",
    "    def __init__(self, id, name):\n",
    "        self.id = id\n",
    "        self.name = name\n",
    "\n",
    "class Post:\n",
    "    def __init__(self, id, title, content, blog_id):\n",
    "        self.id = id\n",
    "        self.title = title\n",
    "        self.content = content\n",
    "        self.blog_id = blog_id\n",
    "\n",
    "class Comment:\n",
    "    def __init__(self, id, content, post_id):\n",
    "        self.id = id\n",
    "        self.content = content\n",
    "        self.post_id = post_id\n"
   ],
   "metadata": {
    "collapsed": false
   }
  },
  {
   "cell_type": "markdown",
   "source": [
    "We can define our database manager class:"
   ],
   "metadata": {
    "collapsed": false
   }
  },
  {
   "cell_type": "code",
   "execution_count": null,
   "outputs": [],
   "source": [
    "import pymysql\n",
    "\n",
    "class DatabaseManager:\n",
    "    def __init__(self, host, user, password, db):\n",
    "        self.connection = pymysql.connect(host=host,\n",
    "                                          user=user,\n",
    "                                          password=password,\n",
    "                                          db=db,\n",
    "                                          charset='utf8mb4',\n",
    "                                          cursorclass=pymysql.cursors.DictCursor)\n",
    "\n",
    "    def get_blog_by_id(self, id):\n",
    "        with self.connection.cursor() as cursor:\n",
    "            sql = \"SELECT * FROM `blogs` WHERE `id` = %s\"\n",
    "            cursor.execute(sql, (id,))\n",
    "            result = cursor.fetchone()\n",
    "            return Blog(result['id'], result['name'])\n",
    "\n",
    "    def get_posts_by_blog_id(self, blog_id):\n",
    "        with self.connection.cursor() as cursor:\n",
    "            sql = \"SELECT * FROM `posts` WHERE `blog_id` = %s\"\n",
    "            cursor.execute(sql, (blog_id,))\n",
    "            results = cursor.fetchall()\n",
    "            return [Post(result['id'], result['title'], result['content'], result['blog_id']) for result in results]\n",
    "\n",
    "    def get_comments_by_post_id(self, post_id):\n",
    "        with self.connection.cursor() as cursor:\n",
    "            sql = \"SELECT * FROM `comments` WHERE `post_id` = %s\"\n",
    "            cursor.execute(sql, (post_id,))\n",
    "            results = cursor.fetchall()\n",
    "            return [Comment(result['id'], result['content'], result['post_id']) for result in results]\n",
    "\n",
    "    def close(self):\n",
    "        self.connection.close()"
   ],
   "metadata": {
    "collapsed": false
   }
  },
  {
   "cell_type": "markdown",
   "source": [
    "And then we can use it like this:"
   ],
   "metadata": {
    "collapsed": false
   }
  },
  {
   "cell_type": "code",
   "execution_count": null,
   "outputs": [],
   "source": [
    "db = DatabaseManager('localhost', 'user', 'password', 'blog_db')\n",
    "blog = db.get_blog_by_id(1)\n",
    "posts = db.get_posts_by_blog_id(blog.id)\n",
    "\n",
    "for post in posts:\n",
    "    print(post.title)\n",
    "    comments = db.get_comments_by_post_id(post.id)\n",
    "    for comment in comments:\n",
    "        print(comment.content)\n",
    "\n",
    "db.close()"
   ],
   "metadata": {
    "collapsed": false
   }
  },
  {
   "cell_type": "markdown",
   "source": [],
   "metadata": {
    "collapsed": false
   }
  }
 ],
 "metadata": {
  "kernelspec": {
   "display_name": "Python 3",
   "language": "python",
   "name": "python3"
  },
  "language_info": {
   "codemirror_mode": {
    "name": "ipython",
    "version": 2
   },
   "file_extension": ".py",
   "mimetype": "text/x-python",
   "name": "python",
   "nbconvert_exporter": "python",
   "pygments_lexer": "ipython2",
   "version": "2.7.6"
  }
 },
 "nbformat": 4,
 "nbformat_minor": 0
}
